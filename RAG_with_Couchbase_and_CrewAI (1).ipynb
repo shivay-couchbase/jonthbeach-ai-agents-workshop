{
  "cells": [
    {
      "cell_type": "markdown",
      "metadata": {
        "id": "vdGcZWM-LcI-"
      },
      "source": [
        "# Introduction\n",
        "\n",
        "In this guide, we will walk you through building a powerful semantic search engine using [Couchbase](https://www.couchbase.com) as the backend database and [CrewAI](https://github.com/crewAIInc/crewAI) for agent-based RAG operations. CrewAI allows us to create specialized agents that can work together to handle different aspects of the RAG workflow, from document retrieval to response generation. This tutorial is designed to be beginner-friendly, with clear, step-by-step instructions that will equip you with the knowledge to create a fully functional semantic search system from scratch.\n",
        "\n",
        "Before you start\n",
        "---------------\n",
        "\n",
        "1. Create and Deploy Your Free Tier Operational cluster on [Capella](https://cloud.couchbase.com/sign-up)\n",
        "   - To get started with [Couchbase Capella](https://cloud.couchbase.com), create an account and use it to deploy\n",
        "     a forever free tier operational cluster\n",
        "   - This account provides you with an environment where you can explore and learn\n",
        "     about Capella with no time constraint\n",
        "   - To learn more, please follow the [Getting Started Guide](https://docs.couchbase.com/cloud/get-started/create-account.html)\n",
        "\n",
        "2. Couchbase Capella Configuration\n",
        "   When running Couchbase using Capella, the following prerequisites need to be met:\n",
        "   - Create the database credentials to access the required bucket (Read and Write) used in the application\n",
        "   - Allow access to the Cluster from the IP on which the application is running by following the [Network Security documentation](https://docs.couchbase.com/cloud/security/security.html#public-access)"
      ]
    },
    {
      "cell_type": "markdown",
      "metadata": {
        "id": "new-arize-viewing-cell"
      },
      "source": [
        "# Viewing Your Crew's Performance in Arize AI\n",
        "\n",
        "Once you've run your `process_query` function a few times (especially after the first run to allow Arize to set up the schema for your `MODEL_ID`), you can log into your Arize AI account to see the observability data.\n",
        "\n",
        "**Steps to View Data:**\n",
        "\n",
        "1.  **Log in to Arize AI:** Go to [app.arize.com](https://app.arize.com/) and log in.\n",
        "2.  **Navigate to Your Model:**\n",
        "    *   Find the Space you used (identified by your `ARIZE_SPACE_KEY`).\n",
        "    *   Within that Space, you should see your model, which we named `crew-ai-rag-app` (or whatever `MODEL_ID` you configured). Click on it.\n",
        "    *   If it's the first time sending data for this model, Arize might prompt you to **review and accept the schema**. This is where Arize understands the structure of your features (e.g., `query_text`) and predictions (e.g., `final_response`). Accept the schema to proceed. This might take a few minutes to appear after the first data is sent.\n",
        "\n",
        "3.  **Explore the Data:**\n",
        "    *   **Overview Tab:** Get a general summary of your model's performance, including prediction volumes and any detected drifts or issues (once you have more data).\n",
        "    *   **Data Ingestion Tab:** Check the status of data being sent to Arize. You can see batches of data and any potential ingestion errors.\n",
        "    *   **Prompt Playground & Tracing (for LLMs):** This is where the `ArizeCallbackHandler` data shines.\n",
        "        *   You should be able to find individual traces for LLM calls made by your agents.\n",
        "        *   Look for sections related to \"Prompts\" or \"Traces\".\n",
        "        *   You can inspect the exact prompts sent to the LLM, the responses received, token counts, and latencies for each step in your agent's reasoning process.\n",
        "        *   This is invaluable for debugging prompts, understanding agent behavior, and identifying performance bottlenecks.\n",
        "    *   **Predictions Table:** View the explicit logs you sent using `arize_client.log()`. You'll see your `prediction_id`, `features` (like `query_text`), `prediction_label` (the `final_response`), and any `tags` you added (like `crew_execution_time_seconds`).\n",
        "    *   **Embeddings (if applicable):** If you were logging embeddings (not explicitly covered in this basic setup but possible with Arize), you could visualize them here.\n",
        "\n",
        "**What to Look For:**\n",
        "\n",
        "*   **Prompt-Response Pairs:** Are the prompts what you expect? Are the LLM responses sensible?\n",
        "*   **Latency:** How long is each LLM call taking? Where are the delays in your crew's execution?\n",
        "*   **Token Usage:** Monitor token consumption to manage costs and stay within context limits.\n",
        "*   **Errors:** The `ArizeCallbackHandler` should also log errors from LLM calls. Explicitly logged errors (like our `crew_error` example) will also appear.\n",
        "*   **Overall Flow:** By correlating the `prediction_id` from your explicit log with the traces from the `ArizeCallbackHandler`, you can piece together the entire journey of a query through your CrewAI application.\n",
        "\n",
        "Arize offers many more advanced features like drift detection, performance dashboards, and monitors. As you send more data, you'll be able to leverage these to get deeper insights into your CrewAI application's performance and behavior. Refer to the [Arize Documentation](https://docs.arize.com/) for more detailed guides on using the platform.\n",
        "\n",
        "*(Optional: You could insert a placeholder here like `<!-- Placeholder for a screenshot of Arize UI -->` if you intend to add an image later)*"
      ]
    },
    {
      "cell_type": "markdown",
      "metadata": {
        "id": "new-arize-setup-cell"
      },
      "source": [
        "# Setting up Arize AI\n",
        "\n",
        "To start sending your CrewAI data to Arize, you'll need two key pieces of information:\n",
        "\n",
        "1.  **Arize API Key (`ARIZE_API_KEY`)**: This key authenticates your application when it sends data to Arize.\n",
        "2.  **Arize Space Key (`ARIZE_SPACE_KEY`)**: This key identifies the specific space within your Arize account where the data will be logged.\n",
        "\n",
        "**Steps to Get Your Keys:**\n",
        "\n",
        "1.  **Sign Up for Arize AI:** If you don't have an account, go to the [Arize AI website](https://arize.com/signup/) and create one. They typically offer a free tier that's suitable for getting started.\n",
        "2.  **Find Your API and Space Key:**\n",
        "    *   Once logged in, navigate to the 'API Keys' section in your Arize account settings (the exact location might vary slightly, but it's usually under your organization or user settings).\n",
        "    *   Here you will find your `API Key` and `Space Key`. Copy these values.\n",
        "\n",
        "**Configuring the Keys:**\n",
        "\n",
        "You need to make these keys available to your notebook environment. You can do this in a couple of ways:\n",
        "\n",
        "*   **Environment Variables (Recommended):**\n",
        "    Set the `ARIZE_API_KEY` and `ARIZE_SPACE_KEY` as environment variables in your system. If you're running this notebook locally, you can set them in your terminal before launching Jupyter, or add them to your `.bashrc` or `.zshrc` file.\n",
        "    ```bash\n",
        "    export ARIZE_API_KEY=\"YOUR_API_KEY\"\n",
        "    export ARIZE_SPACE_KEY=\"YOUR_SPACE_KEY\"\n",
        "    ```\n",
        "    If you are using a `.env` file with `python-dotenv` (which is already installed in this notebook), you can add them there:\n",
        "    ```\n",
        "    ARIZE_API_KEY=\"YOUR_API_KEY\"\n",
        "    ARIZE_SPACE_KEY=\"YOUR_SPACE_KEY\"\n",
        "    ```\n",
        "    Then, make sure `load_dotenv()` is called early in your script.\n",
        "\n",
        "*   **Directly in the Notebook (Less Secure):**\n",
        "    You can define these keys directly in a code cell. However, be cautious with this method, especially if you plan to share your notebook, as it exposes your keys.\n",
        "    ```python\n",
        "    # Not recommended for production or shared notebooks\n",
        "    # ARIZE_API_KEY = \"YOUR_API_KEY\"\n",
        "    # ARIZE_SPACE_KEY = \"YOUR_SPACE_KEY\"\n",
        "    ```\n",
        "\n",
        "In the next step, we'll use these keys to initialize the Arize client."
      ]
    },
    {
      "cell_type": "code",
      "execution_count": null,
      "metadata": {
        "id": "new-arize-init-cell"
      },
      "outputs": [],
      "source": [
        "import os\n",
        "from arize.api import ArizeClient\n",
        "from dotenv import load_dotenv\n",
        "\n",
        "# Load environment variables from .env file, if present\n",
        "load_dotenv()\n",
        "\n",
        "ARIZE_API_KEY = os.getenv(\"ARIZE_API_KEY\")\n",
        "ARIZE_SPACE_KEY = os.getenv(\"ARIZE_SPACE_KEY\")\n",
        "\n",
        "# It's good practice to check if the keys are loaded, especially before trying to use them.\n",
        "if not ARIZE_API_KEY or not ARIZE_SPACE_KEY:\n",
        "    print(\"🔴 Arize API Key or Space Key not found. Please set them as environment variables or in a .env file.\")\n",
        "    print(\"🔴 For now, Arize logging will be disabled.\")\n",
        "    arize_client = None\n",
        "else:\n",
        "    try:\n",
        "        arize_client = ArizeClient(space_key=ARIZE_SPACE_KEY, api_key=ARIZE_API_KEY)\n",
        "        print(\"✅ Arize client initialized successfully!\")\n",
        "        print(\"⚠️ If you are running this for the first time in a new space, make sure to send some data (e.g. by running a Crew) and then **accept the schema** in the Arize UI for the model 'crew-ai-rag-app'.\")\n",
        "    except Exception as e:\n",
        "        print(f\"🔴 Failed to initialize Arize client: {e}\")\n",
        "        arize_client = None"
      ]
    },
    {
      "cell_type": "markdown",
      "metadata": {
        "id": "new-arize-cell"
      },
      "source": [
        "# Adding Observability with Arize AI\n",
        "\n",
        "In complex AI systems like those built with CrewAI, understanding what's happening under the hood is crucial. This is where observability comes in. Arize AI is a powerful platform for ML observability, and it's particularly useful for applications involving Large Language Models (LLMs).\n",
        "\n",
        "**Why is Observability Important for CrewAI?**\n",
        "\n",
        "CrewAI orchestrates multiple agents, tools, and LLM calls. This can create a complex web of interactions. Observability helps you:\n",
        "\n",
        "*   **Trace Execution:** Follow the flow of a query as it's processed by different agents and tools.\n",
        "*   **Monitor Prompts & Responses:** See the exact prompts being sent to LLMs and the responses received. This is vital for debugging and improving prompt engineering.\n",
        "*   **Evaluate Performance:** Track metrics like latency, token usage, and the quality of outputs.\n",
        "*   **Detect Issues:** Quickly identify errors, bottlenecks, or unexpected behavior within your crew.\n",
        "*   **Understand Agent Interactions:** Gain insights into how different agents in your crew are collaborating (or failing to collaborate).\n",
        "*   **Ensure Data Quality:** For RAG systems, monitor the quality of retrieved documents and their impact on the final response.\n",
        "\n",
        "By integrating Arize AI, you can gain these insights, leading to more robust, reliable, and performant CrewAI applications. In the following sections, we'll walk through how to set up Arize AI to monitor your CrewAI agents and tasks."
      ]
    },
    {
      "cell_type": "code",
      "execution_count": null,
      "metadata": {
        "id": "new-arize-pip-cell"
      },
      "outputs": [],
      "source": [
        "%pip install --quiet arize"
      ]
    },
    {
      "cell_type": "markdown",
      "metadata": {
        "id": "fGu_YkRxLcI_"
      },
      "source": [
        "# Setting the Stage: Installing Necessary Libraries\n",
        "\n",
        "We'll install the following key libraries:\n",
        "- `datasets`: For loading and managing our training data\n",
        "- `langchain-couchbase`: To integrate Couchbase with LangChain for vector storage and caching\n",
        "- `langchain-openai`: For accessing OpenAI's embedding and chat models\n",
        "- `crewai`: To create and orchestrate our AI agents for RAG operations\n",
        "- `python-dotenv`: For securely managing environment variables and API keys\n",
        "\n",
        "These libraries provide the foundation for building a semantic search engine with vector embeddings,\n",
        "database integration, and agent-based RAG capabilities."
      ]
    },
    {
      "cell_type": "code",
      "execution_count": 1,
      "metadata": {
        "id": "sgiY951GLcI_"
      },
      "outputs": [],
      "source": [
        "%pip install --quiet datasets langchain-couchbase langchain-openai crewai python-dotenv"
      ]
    },
    {
      "cell_type": "markdown",
      "metadata": {
        "id": "xmXBLaTHLcJA"
      },
      "source": [
        "# Importing Necessary Libraries\n",
        "The script starts by importing a series of libraries required for various tasks, including handling JSON, logging, time tracking, Couchbase connections, embedding generation, and dataset loading."
      ]
    },
    {
      "cell_type": "code",
      "execution_count": 24,
      "metadata": {
        "id": "hbuJUu_lLcJA"
      },
      "outputs": [],
      "source": [
        "import getpass\n",
        "import json\n",
        "import logging\n",
        "import os\n",
        "import time\n",
        "import uuid # Added for Arize logging prediction_id\n",
        "from datetime import timedelta\n",
        "\n",
        "from couchbase.auth import PasswordAuthenticator\n",
        "from couchbase.cluster import Cluster\n",
        "from couchbase.diagnostics import PingState, ServiceType\n",
        "from couchbase.exceptions import (InternalServerFailureException,\n",
        "                                  QueryIndexAlreadyExistsException,\n",
        "                                  ServiceUnavailableException)\n",
        "from couchbase.management.buckets import CreateBucketSettings\n",
        "from couchbase.management.search import SearchIndex\n",
        "from couchbase.options import ClusterOptions\n",
        "from datasets import load_dataset\n",
        "from dotenv import load_dotenv\n",
        "from crewai.tools import tool # Added import\n",
        "from langchain_couchbase.vectorstores import CouchbaseVectorStore\n",
        "from langchain_openai import ChatOpenAI, OpenAIEmbeddings\n",
        "\n",
        "from crewai import Agent, Crew, Process, Task, LLM"
      ]
    },
    {
      "cell_type": "markdown",
      "metadata": {
        "id": "ur4hL7xJLcJA"
      },
      "source": [
        "# Setup Logging\n",
        "Logging is configured to track the progress of the script and capture any errors or warnings."
      ]
    },
    {
      "cell_type": "code",
      "execution_count": 25,
      "metadata": {
        "id": "72upMkA3LcJA"
      },
      "outputs": [],
      "source": [
        "logging.basicConfig(\n",
        "    level=logging.INFO,\n",
        "    format='%(asctime)s [%(levelname)s] %(message)s',\n",
        "    datefmt='%Y-%m-%d %H:%M:%S'\n",
        ")\n",
        "\n",
        "# Suppress httpx logging\n",
        "logging.getLogger('httpx').setLevel(logging.CRITICAL)"
      ]
    },
    {
      "cell_type": "markdown",
      "metadata": {
        "id": "eXhihJVGLcJA"
      },
      "source": [
        "# Loading Sensitive Informnation\n",
        "In this section, we prompt the user to input essential configuration settings needed. These settings include sensitive information like database credentials, and specific configuration names. Instead of hardcoding these details into the script, we request the user to provide them at runtime, ensuring flexibility and security.\n",
        "\n",
        "The script uses environment variables to store sensitive information, enhancing the overall security and maintainability of your code by avoiding hardcoded values."
      ]
    },
    {
      "cell_type": "code",
      "execution_count": 26,
      "metadata": {
        "colab": {
          "base_uri": "https://localhost:8080/"
        },
        "id": "qaQ0flaXLcJA",
        "outputId": "51b14833-e29e-4043-8c15-e77547606b85"
      },
      "outputs": [
        {
          "name": "stdout",
          "output_type": "stream",
          "text": [
            "Configuration loaded successfully\n"
          ]
        }
      ],
      "source": [
        "# Load environment variables\n",
        "load_dotenv()\n",
        "\n",
        "CB_HOST = os.getenv('CB_HOST') or input(\"Enter Couchbase host (default: couchbase://localhost): \") or 'couchbase://localhost'\n",
        "CB_USERNAME = os.getenv('CB_USERNAME') or input(\"Enter Couchbase username (default: Administrator): \") or 'Administrator'\n",
        "CB_PASSWORD = os.getenv('CB_PASSWORD') or getpass.getpass(\"Enter Couchbase password (default: password): \") or 'password'\n",
        "CB_BUCKET_NAME = os.getenv('CB_BUCKET_NAME') or input(\"Enter bucket name (default: vector-search-testing): \") or 'vector-search-testing'\n",
        "INDEX_NAME = os.getenv('INDEX_NAME') or input(\"Enter index name (default: vector_search_crew): \") or 'vector_search_crew'\n",
        "SCOPE_NAME = os.getenv('SCOPE_NAME') or input(\"Enter scope name (default: shared): \") or 'shared'\n",
        "COLLECTION_NAME = os.getenv('COLLECTION_NAME') or input(\"Enter collection name (default: crew): \") or 'crew'\n",
        "\n",
        "print(\"Configuration loaded successfully\")"
      ]
    },
    {
      "cell_type": "code",
      "execution_count": 27,
      "metadata": {
        "id": "t1uG_jSQfIRX"
      },
      "outputs": [],
      "source": [
        "NEBIUS_AI_KEY=os.getenv('NEBIUS_AI_KEY') or input(\"Enter your Nebius AI key: \")\n",
        "if not NEBIUS_AI_KEY:\n",
        "    raise ValueError(\"NEBIUS_AI_KEY is not set\")\n",
        "\n",
        "# Load environment variables\n",
        "load_dotenv()"
      ]
    },
    {
      "cell_type": "markdown",
      "metadata": {
        "id": "XuIMITY3LcJA"
      },
      "source": [
        "# Connecting to the Couchbase Cluster\n",
        "Connecting to a Couchbase cluster is the foundation of our project. Couchbase will serve as our primary data store, handling all the storage and retrieval operations required for our semantic search engine. By establishing this connection, we enable our application to interact with the database, allowing us to perform operations such as storing embeddings, querying data, and managing collections. This connection is the gateway through which all data will flow, so ensuring it's set up correctly is paramount."
      ]
    },
    {
      "cell_type": "code",
      "execution_count": 6,
      "metadata": {
        "colab": {
          "base_uri": "https://localhost:8080/"
        },
        "id": "JD4etG5MLcJB",
        "outputId": "aca412f5-743e-48fa-9876-88fa4a7256bf"
      },
      "outputs": [
        {
          "name": "stdout",
          "output_type": "stream",
          "text": [
            "Successfully connected to Couchbase\n"
          ]
        }
      ],
      "source": [
        "# Connect to Couchbase\n",
        "try:\n",
        "    auth = PasswordAuthenticator(CB_USERNAME, CB_PASSWORD)\n",
        "    options = ClusterOptions(auth)\n",
        "    cluster = Cluster(CB_HOST, options)\n",
        "    cluster.wait_until_ready(timedelta(seconds=5))\n",
        "    print(\"Successfully connected to Couchbase\")\n",
        "except Exception as e:\n",
        "    print(f\"Failed to connect to Couchbase: {str(e)}\")\n",
        "    raise"
      ]
    },
    {
      "cell_type": "markdown",
      "metadata": {
        "id": "QmlQHlhqLcJB"
      },
      "source": [
        "## Setting Up Collections in Couchbase\n",
        "\n",
        "The setup_collection() function handles creating and configuring the hierarchical data organization in Couchbase:\n",
        "\n",
        "1. Bucket Creation:\n",
        "   - Checks if specified bucket exists, creates it if not\n",
        "   - Sets bucket properties like RAM quota (1024MB) and replication (disabled)\n",
        "   - Note: If you are using Capella, create a bucket manually called vector-search-testing(or any name you prefer) with the same properties.\n",
        "\n",
        "2. Scope Management:  \n",
        "   - Verifies if requested scope exists within bucket\n",
        "   - Creates new scope if needed (unless it's the default \"_default\" scope)\n",
        "\n",
        "3. Collection Setup:\n",
        "   - Checks for collection existence within scope\n",
        "   - Creates collection if it doesn't exist\n",
        "   - Waits 2 seconds for collection to be ready\n",
        "\n",
        "Additional Tasks:\n",
        "- Creates primary index on collection for query performance\n",
        "- Clears any existing documents for clean state\n",
        "- Implements comprehensive error handling and logging\n",
        "\n",
        "The function is called twice to set up:\n",
        "1. Main collection for vector embeddings\n",
        "2. Cache collection for storing results\n"
      ]
    },
    {
      "cell_type": "code",
      "execution_count": 8,
      "metadata": {
        "colab": {
          "base_uri": "https://localhost:8080/"
        },
        "id": "JIeodrHjLcJB",
        "outputId": "45ef47dd-b2ef-435d-a324-823a61e93877"
      },
      "outputs": [
        {
          "data": {
            "text/plain": [
              "<couchbase.collection.Collection at 0x7edc3b80ced0>"
            ]
          },
          "execution_count": 8,
          "metadata": {},
          "output_type": "execute_result"
        }
      ],
      "source": [
        "def setup_collection(cluster, bucket_name, scope_name, collection_name):\n",
        "    try:\n",
        "        # Check if bucket exists, create if it doesn't\n",
        "        try:\n",
        "            bucket = cluster.bucket(bucket_name)\n",
        "            logging.info(f\"Bucket '{bucket_name}' exists.\")\n",
        "        except Exception as e:\n",
        "            logging.info(f\"Bucket '{bucket_name}' does not exist. Creating it...\")\n",
        "            bucket_settings = CreateBucketSettings(\n",
        "                name=bucket_name,\n",
        "                bucket_type='couchbase',\n",
        "                ram_quota_mb=1024,\n",
        "                flush_enabled=True,\n",
        "                num_replicas=0\n",
        "            )\n",
        "            cluster.buckets().create_bucket(bucket_settings)\n",
        "            bucket = cluster.bucket(bucket_name)\n",
        "            logging.info(f\"Bucket '{bucket_name}' created successfully.\")\n",
        "\n",
        "        bucket_manager = bucket.collections()\n",
        "\n",
        "        # Check if scope exists, create if it doesn't\n",
        "        scopes = bucket_manager.get_all_scopes()\n",
        "        scope_exists = any(scope.name == scope_name for scope in scopes)\n",
        "\n",
        "        if not scope_exists and scope_name != \"_default\":\n",
        "            logging.info(f\"Scope '{scope_name}' does not exist. Creating it...\")\n",
        "            bucket_manager.create_scope(scope_name)\n",
        "            logging.info(f\"Scope '{scope_name}' created successfully.\")\n",
        "\n",
        "        # Check if collection exists, create if it doesn't\n",
        "        collections = bucket_manager.get_all_scopes()\n",
        "        collection_exists = any(\n",
        "            scope.name == scope_name and collection_name in [col.name for col in scope.collections]\n",
        "            for scope in collections\n",
        "        )\n",
        "\n",
        "        if not collection_exists:\n",
        "            logging.info(f\"Collection '{collection_name}' does not exist. Creating it...\")\n",
        "            bucket_manager.create_collection(scope_name, collection_name)\n",
        "            logging.info(f\"Collection '{collection_name}' created successfully.\")\n",
        "        else:\n",
        "            logging.info(f\"Collection '{collection_name}' already exists. Skipping creation.\")\n",
        "\n",
        "        # Wait for collection to be ready\n",
        "        collection = bucket.scope(scope_name).collection(collection_name)\n",
        "        time.sleep(2)  # Give the collection time to be ready for queries\n",
        "\n",
        "        # Ensure primary index exists\n",
        "        try:\n",
        "            cluster.query(f\"CREATE PRIMARY INDEX IF NOT EXISTS ON `{bucket_name}`.`{scope_name}`.`{collection_name}`\").execute()\n",
        "            logging.info(\"Primary index present or created successfully.\")\n",
        "        except Exception as e:\n",
        "            logging.warning(f\"Error creating primary index: {str(e)}\")\n",
        "\n",
        "        # Clear all documents in the collection\n",
        "        try:\n",
        "            query = f\"DELETE FROM `{bucket_name}`.`{scope_name}`.`{collection_name}`\"\n",
        "            cluster.query(query).execute()\n",
        "            logging.info(\"All documents cleared from the collection.\")\n",
        "        except Exception as e:\n",
        "            logging.warning(f\"Error while clearing documents: {str(e)}. The collection might be empty.\")\n",
        "\n",
        "        return collection\n",
        "    except Exception as e:\n",
        "        raise RuntimeError(f\"Error setting up collection: {str(e)}\")\n",
        "\n",
        "setup_collection(cluster, CB_BUCKET_NAME, SCOPE_NAME, COLLECTION_NAME)\n"
      ]
    },
    {
      "cell_type": "markdown",
      "metadata": {
        "id": "GBPgDAqnLcJB"
      },
      "source": [
        "# Configuring and Initializing Couchbase Vector Search Index for Semantic Document Retrieval\n",
        "\n",
        "Semantic search requires an efficient way to retrieve relevant documents based on a user's query. This is where the Couchbase Vector Search Index comes into play. In this step, we load the Vector Search Index definition from a JSON file, which specifies how the index should be structured. This includes the fields to be indexed, the dimensions of the vectors, and other parameters that determine how the search engine processes queries based on vector similarity.\n",
        "\n",
        "This CrewAI vector search index configuration requires specific default settings to function properly. This tutorial uses the bucket named `vector-search-testing` with the scope `shared` and collection `crew`. The configuration is set up for vectors with exactly `1536 dimensions`, using `dot product` similarity and optimized for `recall`. If you want to use a different bucket, scope, or collection, you will need to modify the index configuration accordingly.\n",
        "\n",
        "For more information on creating a vector search index, please follow the instructions at [Couchbase Vector Search Documentation](https://docs.couchbase.com/cloud/vector-search/create-vector-search-index-ui.html)."
      ]
    },
    {
      "cell_type": "code",
      "execution_count": 34,
      "metadata": {
        "id": "UrEx-rYFLcJB"
      },
      "outputs": [],
      "source": [
        "# Load index definition\n",
        "try:\n",
        "    with open('crew_index.json', 'r') as file:\n",
        "        index_definition = json.load(file)\n",
        "except FileNotFoundError as e:\n",
        "    print(f\"Error: crew_index.json file not found: {str(e)}\")\n",
        "    raise\n",
        "except json.JSONDecodeError as e:\n",
        "    print(f\"Error: Invalid JSON in crew_index.json: {str(e)}\")\n",
        "    raise\n",
        "except Exception as e:\n",
        "    print(f\"Error loading index definition: {str(e)}\")\n",
        "    raise"
      ]
    },
    {
      "cell_type": "markdown",
      "metadata": {
        "id": "swkzjUjiLcJB"
      },
      "source": [
        "# Creating or Updating Search Indexes\n",
        "\n",
        "With the index definition loaded, the next step is to create or update the **Vector Search Index** in Couchbase. This step is crucial because it optimizes our database for vector similarity search operations, allowing us to perform searches based on the semantic content of documents rather than just keywords. By creating or updating a Vector Search Index, we enable our search engine to handle complex queries that involve finding semantically similar documents using vector embeddings, which is essential for a robust semantic search engine."
      ]
    },
    {
      "cell_type": "code",
      "execution_count": 35,
      "metadata": {
        "id": "q28Wf_foLcJB"
      },
      "outputs": [],
      "source": [
        "try:\n",
        "    scope_index_manager = cluster.bucket(CB_BUCKET_NAME).scope(SCOPE_NAME).search_indexes()\n",
        "\n",
        "    # Check if index already exists\n",
        "    existing_indexes = scope_index_manager.get_all_indexes()\n",
        "    index_name = index_definition[\"name\"]\n",
        "\n",
        "    if index_name in [index.name for index in existing_indexes]:\n",
        "        logging.info(f\"Index '{index_name}' found\")\n",
        "    else:\n",
        "        logging.info(f\"Creating new index '{index_name}'...\")\n",
        "\n",
        "    # Create SearchIndex object from JSON definition\n",
        "    search_index = SearchIndex.from_json(index_definition)\n",
        "\n",
        "    # Upsert the index (create if not exists, update if exists)\n",
        "    scope_index_manager.upsert_index(search_index)\n",
        "    logging.info(f\"Index '{index_name}' successfully created/updated.\")\n",
        "\n",
        "except QueryIndexAlreadyExistsException:\n",
        "    logging.info(f\"Index '{index_name}' already exists. Skipping creation/update.\")\n",
        "except ServiceUnavailableException:\n",
        "    raise RuntimeError(\"Search service is not available. Please ensure the Search service is enabled in your Couchbase cluster.\")\n",
        "except InternalServerFailureException as e:\n",
        "    logging.error(f\"Internal server error: {str(e)}\")\n",
        "    raise"
      ]
    },
    {
      "cell_type": "markdown",
      "metadata": {
        "id": "LV4Ogg_CNdqA"
      },
      "source": [
        "# Creating Embeddings with Nebius AI"
      ]
    },
    {
      "cell_type": "code",
      "execution_count": 30,
      "metadata": {
        "id": "HLviE-7cCZKa"
      },
      "outputs": [],
      "source": [
        "from typing import Any, Dict, List, Optional\n",
        "import os\n",
        "from openai import OpenAI\n",
        "from langchain_core.embeddings import Embeddings\n",
        "\n",
        "\n",
        "class NebiusE5MistralEmbeddings(Embeddings):\n",
        "    \"\"\"Nebius E5 Mistral 7B embedding model integration for LangChain.\n",
        "\n",
        "    Key init args:\n",
        "        model: str\n",
        "            Name of Nebius model to use, defaults to \"intfloat/e5-mistral-7b-instruct\"\n",
        "        api_key: Optional[str]\n",
        "            API key for Nebius. If not provided, will look for NEBIUS_API_KEY env var.\n",
        "        base_url: str\n",
        "            Base URL for Nebius API, defaults to \"https://api.studio.nebius.com/v1/\"\n",
        "        client: Optional[OpenAI]\n",
        "            Pre-configured OpenAI client. If provided, other connection params are ignored.\n",
        "\n",
        "    Instantiate:\n",
        "        .. code-block:: python\n",
        "\n",
        "            from nebius_embeddings import NebiusE5MistralEmbeddings\n",
        "\n",
        "            # Basic usage with API key in environment variable\n",
        "            embed = NebiusE5MistralEmbeddings()\n",
        "\n",
        "            # Or with explicit parameters\n",
        "            embed = NebiusE5MistralEmbeddings(\n",
        "                model=\"intfloat/e5-mistral-7b-instruct\",\n",
        "                api_key=\"your-api-key\"\n",
        "            )\n",
        "\n",
        "    Embed single text:\n",
        "        .. code-block:: python\n",
        "\n",
        "            input_text = \"The meaning of life is 42\"\n",
        "            embedding = embed.embed_query(input_text)\n",
        "            # Returns a list of floats representing the embedding\n",
        "\n",
        "    Embed multiple texts:\n",
        "        .. code-block:: python\n",
        "\n",
        "            input_texts = [\"Document 1...\", \"Document 2...\"]\n",
        "            embeddings = embed.embed_documents(input_texts)\n",
        "            # Returns a list of lists of floats, each representing a document embedding\n",
        "    \"\"\"\n",
        "\n",
        "    def __init__(\n",
        "        self,\n",
        "        model: str = \"intfloat/e5-mistral-7b-instruct\",\n",
        "        api_key: Optional[str] = None,\n",
        "        base_url: str = \"https://api.studio.nebius.com/v1/\",\n",
        "        client: Optional[Any] = None,\n",
        "        **kwargs: Any,\n",
        "    ):\n",
        "        \"\"\"Initialize the Nebius E5 Mistral embeddings.\n",
        "\n",
        "        Args:\n",
        "            model: The model to use for embeddings\n",
        "            api_key: The API key to use. If not provided, will look for NEBIUS_API_KEY env var\n",
        "            base_url: The base URL for the Nebius API\n",
        "            client: Pre-configured OpenAI client. If provided, other connection params are ignored\n",
        "            **kwargs: Additional parameters to pass to the client\n",
        "        \"\"\"\n",
        "        self.model = model\n",
        "\n",
        "        if client is not None:\n",
        "            self.client = client\n",
        "        else:\n",
        "            api_key = api_key or os.environ.get(\"NEBIUS_API_KEY\")\n",
        "            if not api_key:\n",
        "                raise ValueError(\n",
        "                    \"Nebius API key must be provided as an argument or set as environment \"\n",
        "                    \"variable NEBIUS_API_KEY\"\n",
        "                )\n",
        "\n",
        "            self.client = OpenAI(\n",
        "                base_url=base_url,\n",
        "                api_key=api_key,\n",
        "                **kwargs,\n",
        "            )\n",
        "\n",
        "    def embed_documents(self, texts: List[str]) -> List[List[float]]:\n",
        "        \"\"\"Embed a list of documents using the Nebius API.\n",
        "\n",
        "        Args:\n",
        "            texts: The list of texts to embed\n",
        "\n",
        "        Returns:\n",
        "            List of embeddings, one for each text\n",
        "        \"\"\"\n",
        "        # Handle empty inputs\n",
        "        if not texts:\n",
        "            return []\n",
        "\n",
        "        # Process in batch\n",
        "        embeddings = []\n",
        "        for text in texts:\n",
        "            response = self.client.embeddings.create(\n",
        "                model=self.model,\n",
        "                input=text,\n",
        "            )\n",
        "            embedding = response.data[0].embedding\n",
        "            embeddings.append(embedding)\n",
        "\n",
        "        return embeddings\n",
        "\n",
        "    def embed_query(self, text: str) -> List[float]:\n",
        "        \"\"\"Embed a query using the Nebius API.\n",
        "\n",
        "        Args:\n",
        "            text: The text to embed\n",
        "\n",
        "        Returns:\n",
        "            Embedding for the text\n",
        "        \"\"\"\n",
        "        response = self.client.embeddings.create(\n",
        "            model=self.model,\n",
        "            input=text,\n",
        "        )\n",
        "        return response.data[0].embedding\n",
        "\n",
        "    async def aembed_documents(self, texts: List[str]) -> List[List[float]]:\n",
        "        \"\"\"Asynchronously embed a list of documents using the Nebius API.\n",
        "\n",
        "        Note: This implementation falls back to the synchronous version as\n",
        "        the Nebius OpenAI client might not have native async support.\n",
        "        Consider implementing a fully async version if needed.\n",
        "\n",
        "        Args:\n",
        "            texts: The list of texts to embed\n",
        "\n",
        "        Returns:\n",
        "            List of embeddings, one for each text\n",
        "        \"\"\"\n",
        "        return self.embed_documents(texts)\n",
        "\n",
        "    async def aembed_query(self, text: str) -> List[float]:\n",
        "        \"\"\"Asynchronously embed a query using the Nebius API.\n",
        "\n",
        "        Note: This implementation falls back to the synchronous version as\n",
        "        the Nebius OpenAI client might not have native async support.\n",
        "        Consider implementing a fully async version if needed.\n",
        "\n",
        "        Args:\n",
        "            text: The text to embed\n",
        "\n",
        "        Returns:\n",
        "            Embedding for the text\n",
        "        \"\"\"\n",
        "        return self.embed_query(text)"
      ]
    },
    {
      "cell_type": "markdown",
      "metadata": {
        "id": "68qAwLdtLcJB"
      },
      "source": [
        "## Setting Up LLM Components\n",
        "\n",
        "This section initializes two key OpenAI components needed for our RAG system:\n",
        "\n",
        "1. Nebius AI Embeddings:\n",
        "   - Converts text into high-dimensional vector representations (embeddings)\n",
        "   - These embeddings enable semantic search by capturing the meaning of text\n",
        "   - Required for vector similarity search in Couchbase\n",
        "\n",
        "2. Nebius AI Open Source LLM Model:\n",
        "   - Serves as the cognitive engine for CrewAI agents\n",
        "   - Powers agent reasoning, decision-making, and task execution\n",
        "   - Enables agents to:\n",
        "     - Process and understand retrieved context from vector search\n",
        "     - Generate thoughtful responses based on that context\n",
        "     - Follow instructions defined in agent roles and goals\n",
        "     - Collaborate with other agents in the crew\n",
        "\n",
        "\n",
        "In the CrewAI framework, the LLM acts as the \"brain\" for each agent, allowing them\n",
        "to interpret tasks, retrieve relevant information via the RAG system, and generate\n",
        "appropriate outputs based on their specialized roles and expertise."
      ]
    },
    {
      "cell_type": "code",
      "execution_count": 31,
      "metadata": {
        "colab": {
          "base_uri": "https://localhost:8080/"
        },
        "id": "CyrJW2C8LcJB",
        "outputId": "7195a8e2-dcb9-4ac2-de19-3774957a31cb"
      },
      "outputs": [
        {
          "name": "stdout",
          "output_type": "stream",
          "text": [
            "OpenAI components initialized\n"
          ]
        }
      ],
      "source": [
        "embeddings = NebiusE5MistralEmbeddings(\n",
        "    api_key=os.getenv('NEBIUS_AI_KEY'),  # Or set NEBIUS_API_KEY environment variable\n",
        "    model=\"intfloat/e5-mistral-7b-instruct\"\n",
        ")\n",
        "\n",
        "from arize_langchain.handlers import ArizeCallbackHandler\n",
        "\n",
        "# Define the LLM with Nebius AI Studio\n",
        "# First, ensure arize_client is defined from the previous cell (assumed to be executed prior).\n",
        "# We'll create the callback handler only if the client was initialized.\n",
        "arize_callback = None\n",
        "if 'arize_client' in locals() and arize_client:\n",
        "    try:\n",
        "        # Define a unique model_id and model_version for your CrewAI application\n",
        "        MODEL_ID = \"crew-ai-rag-app\"\n",
        "        MODEL_VERSION = \"1.0\" # You can change this as you update your crew/prompts\n",
        "        \n",
        "        arize_callback = ArizeCallbackHandler(\n",
        "            model_id=MODEL_ID,\n",
        "            model_version=MODEL_VERSION, # Optional\n",
        "            arize_client=arize_client\n",
        "        )\n",
        "        print(\"✅ ArizeCallbackHandler initialized.\")\n",
        "    except Exception as e:\n",
        "        print(f\"🔴 Failed to initialize ArizeCallbackHandler: {e}\")\n",
        "        arize_callback = None\n",
        "else:\n",
        "    print(\"🔴 Arize client not available or not initialized in a preceding cell, ArizeCallbackHandler will not be used.\")\n",
        "\n",
        "# If NEBIUS_AI_KEY is not set, this will fail. Add a check.\n",
        "nebius_api_key = os.getenv('NEBIUS_AI_KEY')\n",
        "if not nebius_api_key:\n",
        "    print(\"🔴 NEBIUS_AI_KEY not set. Cannot initialize LLM.\")\n",
        "    llm = None # Or handle appropriately\n",
        "else:\n",
        "    llm = LLM(\n",
        "        model=\"openai/meta-llama/Meta-Llama-3.1-70B-Instruct\", # This is a model name, not a class\n",
        "        base_url=\"https://api.studio.nebius.com/v1/\",\n",
        "        api_key=nebius_api_key \n",
        "        # Callbacks will be added to agents/crew, not here directly for crewai.LLM\n",
        "    )\n",
        "    print(\"OpenAI components initialized (LLM for CrewAI)\")\n",
        "\n",
        "# The original code also had OpenAIEmbeddings. This is separate from the Chat LLM.\n",
        "# embeddings = OpenAIEmbeddings(openai_api_key=OPENAI_API_KEY) -> This was old\n",
        "# Current embeddings:\n",
        "# embeddings = NebiusE5MistralEmbeddings(...) - This is a custom class, not directly LangChain's OpenAIEmbeddings\n",
        "# ArizeCallbackHandler is for LLM calls, not embedding calls typically."
      ]
    },
    {
      "cell_type": "markdown",
      "metadata": {
        "id": "Ln83vEwxLcJC"
      },
      "source": [
        "# Setting Up the Couchbase Vector Store\n",
        "A vector store is where we'll keep our embeddings. Unlike the FTS index, which is used for text-based search, the vector store is specifically designed to handle embeddings and perform similarity searches. When a user inputs a query, the search engine converts the query into an embedding and compares it against the embeddings stored in the vector store. This allows the engine to find documents that are semantically similar to the query, even if they don't contain the exact same words. By setting up the vector store in Couchbase, we create a powerful tool that enables our search engine to understand and retrieve information based on the meaning and context of the query, rather than just the specific words used."
      ]
    },
    {
      "cell_type": "code",
      "execution_count": 36,
      "metadata": {
        "colab": {
          "base_uri": "https://localhost:8080/"
        },
        "id": "gnDmWbTpLcJC",
        "outputId": "65d69954-968d-49fe-8827-1c81901d178b"
      },
      "outputs": [
        {
          "name": "stdout",
          "output_type": "stream",
          "text": [
            "Vector store initialized\n"
          ]
        }
      ],
      "source": [
        "# Setup vector store\n",
        "vector_store = CouchbaseVectorStore(\n",
        "    cluster=cluster,\n",
        "    bucket_name=CB_BUCKET_NAME,\n",
        "    scope_name=SCOPE_NAME,\n",
        "    collection_name=COLLECTION_NAME,\n",
        "    embedding=embeddings,\n",
        "    index_name=INDEX_NAME,\n",
        ")\n",
        "print(\"Vector store initialized\")"
      ]
    },
    {
      "cell_type": "markdown",
      "metadata": {
        "id": "LnLksmjeLcJC"
      },
      "source": [
        "# Load the BBC News Dataset\n",
        "To build a search engine, we need data to search through. We use the BBC News dataset from RealTimeData, which provides real-world news articles. This dataset contains news articles from BBC covering various topics and time periods. Loading the dataset is a crucial step because it provides the raw material that our search engine will work with. The quality and diversity of the news articles make it an excellent choice for testing and refining our search engine, ensuring it can handle real-world news content effectively.\n",
        "\n",
        "The BBC News dataset allows us to work with authentic news articles, enabling us to build and test a search engine that can effectively process and retrieve relevant news content. The dataset is loaded using the Hugging Face datasets library, specifically accessing the \"RealTimeData/bbc_news_alltime\" dataset with the \"2024-12\" version."
      ]
    },
    {
      "cell_type": "code",
      "execution_count": 37,
      "metadata": {
        "colab": {
          "base_uri": "https://localhost:8080/"
        },
        "id": "CI8gNw-wLcJC",
        "outputId": "bf166d45-99e3-45d1-f28b-e392a55f8ab3"
      },
      "outputs": [
        {
          "name": "stdout",
          "output_type": "stream",
          "text": [
            "Loaded the BBC News dataset with 2687 rows\n"
          ]
        }
      ],
      "source": [
        "try:\n",
        "    news_dataset = load_dataset(\n",
        "        \"RealTimeData/bbc_news_alltime\", \"2024-12\", split=\"train\"\n",
        "    )\n",
        "    print(f\"Loaded the BBC News dataset with {len(news_dataset)} rows\")\n",
        "    logging.info(f\"Successfully loaded the BBC News dataset with {len(news_dataset)} rows.\")\n",
        "except Exception as e:\n",
        "    raise ValueError(f\"Error loading the BBC News dataset: {str(e)}\")"
      ]
    },
    {
      "cell_type": "markdown",
      "metadata": {
        "id": "wA6W-2wyLcJC"
      },
      "source": [
        "## Cleaning up the Data\n",
        "We will use the content of the news articles for our RAG system.\n",
        "\n",
        "The dataset contains a few duplicate records. We are removing them to avoid duplicate results in the retrieval stage of our RAG system."
      ]
    },
    {
      "cell_type": "code",
      "execution_count": 38,
      "metadata": {
        "colab": {
          "base_uri": "https://localhost:8080/"
        },
        "id": "7IEc7btkLcJC",
        "outputId": "36ed151d-7a7c-4112-c4d3-08f6b7776c8a"
      },
      "outputs": [
        {
          "name": "stdout",
          "output_type": "stream",
          "text": [
            "We have 1749 unique articles in our database.\n"
          ]
        }
      ],
      "source": [
        "news_articles = news_dataset[\"content\"]\n",
        "unique_articles = set()\n",
        "for article in news_articles:\n",
        "    if article:\n",
        "        unique_articles.add(article)\n",
        "unique_news_articles = list(unique_articles)\n",
        "print(f\"We have {len(unique_news_articles)} unique articles in our database.\")"
      ]
    },
    {
      "cell_type": "markdown",
      "metadata": {
        "id": "3WurE3TYLcJC"
      },
      "source": [
        "## Saving Data to the Vector Store\n",
        "To efficiently handle the large number of articles, we process them in batches of articles at a time. This batch processing approach helps manage memory usage and provides better control over the ingestion process.\n",
        "\n",
        "We first filter out any articles that exceed 50,000 characters to avoid potential issues with token limits. Then, using the vector store's add_texts method, we add the filtered articles to our vector database. The batch_size parameter controls how many articles are processed in each iteration.\n",
        "\n",
        "This approach offers several benefits:\n",
        "1. Memory Efficiency: Processing in smaller batches prevents memory overload\n",
        "2. Error Handling: If an error occurs, only the current batch is affected\n",
        "3. Progress Tracking: Easier to monitor and track the ingestion progress\n",
        "4. Resource Management: Better control over CPU and network resource utilization\n",
        "\n",
        "We use a conservative batch size of 100 to ensure reliable operation.\n",
        "The optimal batch size depends on many factors including:\n",
        "- Document sizes being inserted\n",
        "- Available system resources\n",
        "- Network conditions\n",
        "- Concurrent workload\n",
        "\n",
        "Consider measuring performance with your specific workload before adjusting.\n"
      ]
    },
    {
      "cell_type": "code",
      "execution_count": 39,
      "metadata": {
        "id": "x9XhycBjLcJC"
      },
      "outputs": [],
      "source": [
        "batch_size = 100\n",
        "\n",
        "# Automatic Batch Processing\n",
        "articles = [article for article in unique_news_articles if article and len(article) <= 50000]\n",
        "\n",
        "try:\n",
        "    vector_store.add_texts(\n",
        "        texts=articles,\n",
        "        batch_size=batch_size\n",
        "    )\n",
        "    logging.info(\"Document ingestion completed successfully.\")\n",
        "except Exception as e:\n",
        "    raise ValueError(f\"Failed to save documents to vector store: {str(e)}\")"
      ]
    },
    {
      "cell_type": "markdown",
      "metadata": {
        "id": "fPbooFlhLcJC"
      },
      "source": [
        "## Creating a Vector Search Tool\n",
        "After loading our data into the vector store, we need to create a tool that can efficiently search through these vector embeddings. This involves two key components:\n",
        "\n",
        "### Vector Retriever\n",
        "The vector retriever is configured to perform similarity searches. This creates a retriever that performs semantic similarity searches against our vector database. The similarity search finds documents whose vector embeddings are closest to the query's embedding in the vector space.\n",
        "\n",
        "### Search Tool\n",
        "The search tool wraps the retriever in a user-friendly interface that:\n",
        "- Takes a query string as input\n",
        "- Passes the query to the retriever to find relevant documents\n",
        "- Formats the results with clear document separation using document numbers and dividers\n",
        "- Returns the formatted results as a single string with each document clearly delineated\n",
        "\n",
        "The tool is designed to integrate seamlessly with our AI agents, providing them with reliable access to our knowledge base through vector similarity search. The lambda function in the tool handles both direct string queries and structured query objects, ensuring flexibility in how the tool can be invoked.\n"
      ]
    },
    {
      "cell_type": "code",
      "execution_count": 40,
      "metadata": {
        "id": "4Kw5mwciLcJC"
      },
      "outputs": [],
      "source": [
        "# Create vector retriever\n",
        "retriever = vector_store.as_retriever(\n",
        "    search_type=\"similarity\",\n",
        ")\n",
        "\n",
        "# Define the search tool using the @tool decorator\n",
        "@tool(\"vector_search\")\n",
        "def search_tool(query: str) -> str:\n",
        "    \"\"\"Search for relevant documents using vector similarity.\n",
        "    Input should be a simple text query string.\n",
        "    Returns a list of relevant document contents.\n",
        "    Use this tool to find detailed information about topics.\"\"\"\n",
        "    # Handle potential non-string query input if needed (similar to original lambda)\n",
        "    # CrewAI usually passes the string directly based on task description\n",
        "    # but checking doesn't hurt, though the Agent logic might handle this.\n",
        "    # query_str = query if isinstance(query, str) else str(query.get('query', '')) # Simplified for now\n",
        "\n",
        "    # Invoke the retriever\n",
        "    docs = retriever.invoke(query)\n",
        "\n",
        "    # Format the results\n",
        "    formatted_docs = \"\\n\\n\".join([\n",
        "        f\"Document {i+1}:\\n{'-'*40}\\n{doc.page_content}\"\n",
        "        for i, doc in enumerate(docs)\n",
        "    ])\n",
        "    return formatted_docs"
      ]
    },
    {
      "cell_type": "markdown",
      "metadata": {
        "id": "mnpoE5XvLcJC"
      },
      "source": [
        "# Creating CrewAI Agents\n",
        "\n",
        "We'll create two specialized AI agents using the CrewAI framework to handle different aspects of our information retrieval and analysis system:\n",
        "\n",
        "## Research Expert Agent\n",
        "This agent is designed to:\n",
        "- Execute semantic searches using our vector store\n",
        "- Analyze and evaluate search results\n",
        "- Identify key information and insights\n",
        "- Verify facts across multiple sources\n",
        "- Synthesize findings into comprehensive research summaries\n",
        "\n",
        "## Technical Writer Agent  \n",
        "This agent is responsible for:\n",
        "- Taking research findings and structuring them logically\n",
        "- Converting technical concepts into clear explanations\n",
        "- Ensuring proper citation and attribution\n",
        "- Maintaining engaging yet informative tone\n",
        "- Producing well-formatted final outputs\n",
        "\n",
        "The agents work together in a coordinated way:\n",
        "1. Research agent finds and analyzes relevant documents\n",
        "2. Writer agent takes those findings and crafts polished responses\n",
        "3. Both agents use a custom response template for consistent output\n",
        "\n",
        "This multi-agent approach allows us to:\n",
        "- Leverage specialized expertise for different tasks\n",
        "- Maintain high quality through separation of concerns\n",
        "- Create more comprehensive and reliable outputs\n",
        "- Scale the system's capabilities efficiently"
      ]
    },
    {
      "cell_type": "code",
      "execution_count": null,
      "metadata": {
        "colab": {
          "base_uri": "https://localhost:8080/"
        },
        "id": "hjonRAERLcJC",
        "outputId": "f82b02c3-c90b-4204-f131-ba82dd404108"
      },
      "outputs": [
        {
          "name": "stdout",
          "output_type": "stream",
          "text": [
            "Agents created successfully\n"
          ]
        }
      ],
      "source": [
        "# Custom response template\n",
        "response_template = \"\"\"\n",
        "Analysis Results\n",
        "===============\n",
        "{%- if .Response %}\n",
        "{{ .Response }}\n",
        "{%- endif %}\n",
        "\n",
        "Sources\n",
        "=======\n",
        "{%- for tool in .Tools %}\n",
        "* {{ tool.name }}\n",
        "{%- endfor %}\n",
        "\n",
        "Metadata\n",
        "========\n",
        "* Confidence: {{ .Confidence }}\n",
        "* Analysis Time: {{ .ExecutionTime }}\n",
        "\"\"\"\n",
        "\n",
        "# Create research agent\n",
        "# Ensure arize_callback is accessible from the LLM initialization cell\n",
        "researcher_callbacks = [arize_callback] if 'arize_callback' in locals() and arize_callback else None\n",
        "writer_callbacks = [arize_callback] if 'arize_callback' in locals() and arize_callback else None\n",
        "\n",
        "researcher = Agent(\n",
        "    role='Expert Research Analyst',\n",
        "    goal='Conduct thorough research and analysis on the given topic and provide detailed insights.',\n",
        "    backstory=(\n",
        "        \"As an Expert Research Analyst, you are adept at sifting through information to find \"\n",
        "        \"relevant details, synthesizing them into a coherent analysis, and presenting your findings \"\n",
        "        \"with clarity and precision. You are known for your meticulous approach and ability to \"\n",
        "        \"uncover key insights that others might miss.\"\n",
        "    ),\n",
        "    llm=llm, # Using the centrally defined llm\n",
        "    tools=[search_tool],\n",
        "    verbose=True,\n",
        "    allow_delegation=False,\n",
        "    callbacks=researcher_callbacks # Added Arize callback\n",
        ")\n",
        "\n",
        "# Create writer agent\n",
        "writer = Agent(\n",
        "    role='Professional Technical Writer',\n",
        "    goal='Take the research findings and craft a well-structured, clear, and concise response or article.',\n",
        "    backstory=(\n",
        "        \"As a Professional Technical Writer, you specialize in transforming complex research findings \"\n",
        "        \"into easily understandable and engaging content. You have a keen eye for detail, ensuring \"\n",
        "        \"logical flow, proper formatting, and grammatical correctness to produce polished final outputs.\"\n",
        "    ),\n",
        "    llm=llm, # Using the centrally defined llm\n",
        "    verbose=True,\n",
        "    allow_delegation=False,\n",
        "    callbacks=writer_callbacks # Added Arize callback\n",
        ")\n",
        "\n",
        "print(\"Agents created successfully. Arize callbacks configured if client and callback handler were available.\")"
      ]
    },
    {
      "cell_type": "markdown",
      "metadata": {
        "id": "nZNWgdiCLcJC"
      },
      "source": [
        "## How CrewAI Agents Work in this RAG System\n",
        "\n",
        "### Agent-Based RAG Architecture\n",
        "\n",
        "This system uses a two-agent approach to implement Retrieval-Augmented Generation (RAG):\n",
        "\n",
        "1. **Research Expert Agent**:\n",
        "   - Receives the user query\n",
        "   - Uses the vector search tool to retrieve relevant documents from Couchbase\n",
        "   - Analyzes and synthesizes information from retrieved documents\n",
        "   - Produces a comprehensive research summary with key findings\n",
        "\n",
        "2. **Technical Writer Agent**:\n",
        "   - Takes the research summary as input\n",
        "   - Structures and formats the information\n",
        "   - Creates a polished, user-friendly response\n",
        "   - Ensures proper attribution and citation\n",
        "\n",
        "#### How the Process Works:\n",
        "\n",
        "1. **Query Processing**: User query is passed to the Research Agent\n",
        "2. **Vector Search**: Query is converted to embeddings and matched against document vectors\n",
        "3. **Document Retrieval**: Most similar documents are retrieved from Couchbase\n",
        "4. **Analysis**: Research Agent analyzes documents for relevance and extracts key information\n",
        "5. **Synthesis**: Research Agent combines findings into a coherent summary\n",
        "6. **Refinement**: Writer Agent restructures and enhances the content\n",
        "7. **Response Generation**: Final polished response is returned to the user\n",
        "\n",
        "This multi-agent approach separates concerns (research vs. writing) and leverages\n",
        "specialized expertise for each task, resulting in higher quality responses.\n"
      ]
    },
    {
      "cell_type": "markdown",
      "metadata": {
        "id": "I7_0hTjbLcJC"
      },
      "source": [
        "# Testing the Search System\n",
        "\n",
        "Test the system with some example queries."
      ]
    },
    {
      "cell_type": "code",
      "execution_count": null,
      "metadata": {
        "id": "_JNPz6jbLcJC"
      },
      "outputs": [],
      "source": [
        "def process_query(query, researcher, writer):\n",
        "    \"\"\"\n",
        "    Test the complete RAG system with a user query.\n",
        "\n",
        "    This function tests both the vector search capability and the agent-based processing:\n",
        "    1. Vector search: Retrieves relevant documents from Couchbase\n",
        "    2. Agent processing: Uses CrewAI agents to analyze and format the response\n",
        "\n",
        "    The function measures performance and displays detailed outputs from each step.\n",
        "    \"\"\"\n",
        "    print(f\"\\nQuery: {query}\")\n",
        "    print(\"-\" * 80)\n",
        "\n",
        "    # Create tasks\n",
        "    research_task = Task(\n",
        "     ## add definition\n",
        "    )\n",
        "\n",
        "    writing_task = Task(\n",
        "      ## add definition\n",
        "    )\n",
        "\n",
        "    # Create and execute crew\n",
        "    crew = Crew(\n",
        "     # define crew \n",
        "    )\n",
        "\n",
        "    try:\n",
        "        start_time = time.time()\n",
        "        # Generate a unique ID for this prediction/run\n",
        "        prediction_id = str(uuid.uuid4()) # Make sure uuid is imported\n",
        "\n",
        "        result = crew.kickoff()\n",
        "        elapsed_time = time.time() - start_time\n",
        "\n",
        "        # Arize logging for successful crew execution\n",
        "        # Assumes arize_client, MODEL_ID, MODEL_VERSION are available from preceding cells\n",
        "        if 'arize_client' in globals() and arize_client and 'MODEL_ID' in globals() and MODEL_ID:\n",
        "            try:\n",
        "                features = {\"query_text\": query}\n",
        "                prediction_label = {\"final_response\": str(result)} \n",
        "                \n",
        "                tags = {\n",
        "                    \"crew_execution_time_seconds\": str(round(elapsed_time, 2)),\n",
        "                    \"prediction_id\": prediction_id \n",
        "                }\n",
        "                if hasattr(crew, 'usage_metrics') and crew.usage_metrics:\n",
        "                    tags[\"crew_total_tokens\"] = str(crew.usage_metrics.get('total_tokens', 0))\n",
        "                    tags[\"crew_successful_tasks\"] = str(crew.usage_metrics.get('successful_tasks', 0))\n",
        "                    tags[\"crew_tasks_iterations\"] = str(crew.usage_metrics.get('tasks_iterations', 0))\n",
        "                \n",
        "                # Use globals() to access MODEL_VERSION if it's set globally\n",
        "                model_version_to_log = globals().get('MODEL_VERSION') \n",
        "\n",
        "                response = arize_client.log(\n",
        "                    model_id=MODEL_ID,\n",
        "                    model_version=model_version_to_log, \n",
        "                    prediction_id=prediction_id,\n",
        "                    features=features,\n",
        "                    prediction_label=prediction_label,\n",
        "                    tags=tags\n",
        "                )\n",
        "                \n",
        "                if response and response.status_code == 200:\n",
        "                    print(f\"✅ Successfully logged main query/response to Arize with prediction_id: {prediction_id}\")\n",
        "                else:\n",
        "                    print(f\"🔴 Failed to log to Arize. Status: {response.status_code if response else 'Unknown'}, Response: {response.text if response else 'No response'}\")\n",
        "\n",
        "            except Exception as e_arize:\n",
        "                print(f\"🔴 Error logging to Arize: {e_arize}\")\n",
        "        else:\n",
        "            print(\"ℹ️ Arize client or MODEL_ID not configured, skipping Arize logging for successful execution.\")\n",
        "\n",
        "        print(f\"\\nQuery completed in {elapsed_time:.2f} seconds\")\n",
        "        print(\"=\" * 80)\n",
        "        print(\"RESPONSE\")\n",
        "        print(\"=\" * 80)\n",
        "        print(result)\n",
        "\n",
        "        # The original logic for printing detailed task outputs can remain if needed,\n",
        "        # though ArizeCallbackHandler should capture individual LLM calls.\n",
        "        # For simplicity, this part is removed as the primary output is 'result'.\n",
        "        # if hasattr(crew, 'tasks') and all(hasattr(task, 'output') for task in crew.tasks):\n",
        "        #     print(\"\\n\" + \"=\" * 80)\n",
        "        #     print(\"DETAILED TASK OUTPUTS (from crew.tasks)\")\n",
        "        #     print(\"=\" * 80)\n",
        "        #     for i, task in enumerate(crew.tasks):\n",
        "        #         if hasattr(task, 'output') and task.output:\n",
        "        #             print(f\"\\nTask {i+1}: {task.description[:100]}...\")\n",
        "        #             print(\"-\" * 40)\n",
        "        #             # Accessing raw output if available, or the Pydantic model\n",
        "        #             raw_output = task.output.raw if hasattr(task.output, 'raw') else str(task.output)\n",
        "        #             print(f\"Output: {raw_output}\")\n",
        "        #             print(\"-\" * 40)\n",
        "\n",
        "    except Exception as e:\n",
        "        print(f\"Error executing crew: {str(e)}\")\n",
        "        logging.error(f\"Crew execution failed: {str(e)}\", exc_info=True)\n",
        "        # Arize logging for crew execution error\n",
        "        if 'arize_client' in globals() and arize_client and 'MODEL_ID' in globals() and MODEL_ID:\n",
        "            try:\n",
        "                error_id = str(uuid.uuid4())\n",
        "                model_version_to_log = globals().get('MODEL_VERSION')\n",
        "                arize_client.log(\n",
        "                    model_id=MODEL_ID,\n",
        "                    model_version=model_version_to_log,\n",
        "                    prediction_id=error_id, \n",
        "                    features={\"query_text\": query},\n",
        "                    tags={\"error_message\": str(e), \"event_type\": \"crew_error\", \"prediction_id\": error_id}\n",
        "                )\n",
        "                print(f\"✅ Logged crew execution error to Arize with id: {error_id}\")\n",
        "            except Exception as e_arize_err:\n",
        "                print(f\"🔴 Error logging error event to Arize: {e_arize_err}\")\n",
        "        else:\n",
        "            print(\"ℹ️ Arize client or MODEL_ID not configured, skipping Arize logging for error.\")"
      ]
    },
    {
      "cell_type": "code",
      "execution_count": null,
      "metadata": {
        "colab": {
          "base_uri": "https://localhost:8080/",
          "height": 1000
        },
        "id": "A50gpKBnLcJC",
        "outputId": "d0d3d2d1-2b6e-4bc3-d5d8-213ce2807428"
      },
      "outputs": [
        {
          "name": "stdout",
          "output_type": "stream",
          "text": [
            "\n",
            "Query: What are the key details about the FA Cup third round draw? Include information about Manchester United vs Arsenal, Tamworth vs Tottenham, and other notable fixtures.\n",
            "--------------------------------------------------------------------------------\n"
          ]
        },
        {
          "data": {
            "text/html": [
              "<pre style=\"white-space:pre;overflow-x:auto;line-height:normal;font-family:Menlo,'DejaVu Sans Mono',consolas,'Courier New',monospace\"><span style=\"color: #008080; text-decoration-color: #008080\">╭──────────────────────────────────────────── Crew Execution Started ─────────────────────────────────────────────╮</span>\n",
              "<span style=\"color: #008080; text-decoration-color: #008080\">│</span>                                                                                                                 <span style=\"color: #008080; text-decoration-color: #008080\">│</span>\n",
              "<span style=\"color: #008080; text-decoration-color: #008080\">│</span>  <span style=\"color: #008080; text-decoration-color: #008080; font-weight: bold\">Crew Execution Started</span>                                                                                         <span style=\"color: #008080; text-decoration-color: #008080\">│</span>\n",
              "<span style=\"color: #008080; text-decoration-color: #008080\">│</span>  <span style=\"color: #c0c0c0; text-decoration-color: #c0c0c0\">Name: </span><span style=\"color: #008080; text-decoration-color: #008080\">crew</span>                                                                                                     <span style=\"color: #008080; text-decoration-color: #008080\">│</span>\n",
              "<span style=\"color: #008080; text-decoration-color: #008080\">│</span>  <span style=\"color: #c0c0c0; text-decoration-color: #c0c0c0\">ID: </span><span style=\"color: #008080; text-decoration-color: #008080\">69ce0753-ef54-4e7b-9606-e6e9b08f1f3b</span>                                                                       <span style=\"color: #008080; text-decoration-color: #008080\">│</span>\n",
              "<span style=\"color: #008080; text-decoration-color: #008080\">│</span>                                                                                                                 <span style=\"color: #008080; text-decoration-color: #008080\">│</span>\n",
              "<span style=\"color: #008080; text-decoration-color: #008080\">│</span>                                                                                                                 <span style=\"color: #008080; text-decoration-color: #008080\">│</span>\n",
              "<span style=\"color: #008080; text-decoration-color: #008080\">╰─────────────────────────────────────────────────────────────────────────────────────────────────────────────────╯</span>\n",
              "</pre>\n"
            ],
            "text/plain": [
              "\u001b[36m╭─\u001b[0m\u001b[36m───────────────────────────────────────────\u001b[0m\u001b[36m Crew Execution Started \u001b[0m\u001b[36m────────────────────────────────────────────\u001b[0m\u001b[36m─╮\u001b[0m\n",
              "\u001b[36m│\u001b[0m                                                                                                                 \u001b[36m│\u001b[0m\n",
              "\u001b[36m│\u001b[0m  \u001b[1;36mCrew Execution Started\u001b[0m                                                                                         \u001b[36m│\u001b[0m\n",
              "\u001b[36m│\u001b[0m  \u001b[37mName: \u001b[0m\u001b[36mcrew\u001b[0m                                                                                                     \u001b[36m│\u001b[0m\n",
              "\u001b[36m│\u001b[0m  \u001b[37mID: \u001b[0m\u001b[36m69ce0753-ef54-4e7b-9606-e6e9b08f1f3b\u001b[0m                                                                       \u001b[36m│\u001b[0m\n",
              "\u001b[36m│\u001b[0m                                                                                                                 \u001b[36m│\u001b[0m\n",
              "\u001b[36m│\u001b[0m                                                                                                                 \u001b[36m│\u001b[0m\n",
              "\u001b[36m╰─────────────────────────────────────────────────────────────────────────────────────────────────────────────────╯\u001b[0m\n"
            ]
          },
          "metadata": {},
          "output_type": "display_data"
        },
        {
          "data": {
            "text/html": [
              "<pre style=\"white-space:pre;overflow-x:auto;line-height:normal;font-family:Menlo,'DejaVu Sans Mono',consolas,'Courier New',monospace\">\n",
              "</pre>\n"
            ],
            "text/plain": [
              "\n"
            ]
          },
          "metadata": {},
          "output_type": "display_data"
        },
        {
          "name": "stdout",
          "output_type": "stream",
          "text": [
            "\u001b[1m\u001b[93m \n",
            "[2025-04-08 15:45:31][INFO]: Planning the crew execution\u001b[00m\n"
          ]
        },
        {
          "data": {
            "text/html": [
              "<pre style=\"white-space:pre;overflow-x:auto;line-height:normal;font-family:Menlo,'DejaVu Sans Mono',consolas,'Courier New',monospace\"><span style=\"color: #008080; text-decoration-color: #008080; font-weight: bold\">🚀 Crew: crew</span>\n",
              "└── <span style=\"color: #808000; text-decoration-color: #808000; font-weight: bold\">📋 Task: 84058fc2-c8b0-4f87-beca-8902bbf58fc1</span>\n",
              "    <span style=\"color: #c0c0c0; text-decoration-color: #c0c0c0\">   Status: </span><span style=\"color: #bfbf7f; text-decoration-color: #bfbf7f\">Executing Task...</span>\n",
              "</pre>\n"
            ],
            "text/plain": [
              "\u001b[1;36m🚀 Crew: \u001b[0m\u001b[1;36mcrew\u001b[0m\n",
              "└── \u001b[1;33m📋 Task: 84058fc2-c8b0-4f87-beca-8902bbf58fc1\u001b[0m\n",
              "    \u001b[37m   Status: \u001b[0m\u001b[2;33mExecuting Task...\u001b[0m\n"
            ]
          },
          "metadata": {},
          "output_type": "display_data"
        },
        {
          "data": {
            "text/html": [
              "<pre style=\"white-space:pre;overflow-x:auto;line-height:normal;font-family:Menlo,'DejaVu Sans Mono',consolas,'Courier New',monospace\">\n",
              "</pre>\n"
            ],
            "text/plain": [
              "\n"
            ]
          },
          "metadata": {},
          "output_type": "display_data"
        },
        {
          "data": {
            "text/html": [
              "<pre style=\"white-space:pre;overflow-x:auto;line-height:normal;font-family:Menlo,'DejaVu Sans Mono',consolas,'Courier New',monospace\"><span style=\"color: #008080; text-decoration-color: #008080; font-weight: bold\">🚀 Crew: crew</span>\n",
              "└── <span style=\"color: #808000; text-decoration-color: #808000; font-weight: bold\">📋 Task: 84058fc2-c8b0-4f87-beca-8902bbf58fc1</span>\n",
              "    <span style=\"color: #c0c0c0; text-decoration-color: #c0c0c0\">   Status: </span><span style=\"color: #bfbf7f; text-decoration-color: #bfbf7f\">Executing Task...</span>\n",
              "    └── <span style=\"color: #008000; text-decoration-color: #008000; font-weight: bold\">🤖 Agent: </span><span style=\"color: #008000; text-decoration-color: #008000\">Task Execution Planner</span>\n",
              "        <span style=\"color: #c0c0c0; text-decoration-color: #c0c0c0\">    Status: </span><span style=\"color: #008000; text-decoration-color: #008000; font-weight: bold\">In Progress</span>\n",
              "</pre>\n"
            ],
            "text/plain": [
              "\u001b[1;36m🚀 Crew: \u001b[0m\u001b[1;36mcrew\u001b[0m\n",
              "└── \u001b[1;33m📋 Task: 84058fc2-c8b0-4f87-beca-8902bbf58fc1\u001b[0m\n",
              "    \u001b[37m   Status: \u001b[0m\u001b[2;33mExecuting Task...\u001b[0m\n",
              "    └── \u001b[1;32m🤖 Agent: \u001b[0m\u001b[32mTask Execution Planner\u001b[0m\n",
              "        \u001b[37m    Status: \u001b[0m\u001b[1;32mIn Progress\u001b[0m\n"
            ]
          },
          "metadata": {},
          "output_type": "display_data"
        },
        {
          "data": {
            "text/html": [
              "<pre style=\"white-space:pre;overflow-x:auto;line-height:normal;font-family:Menlo,'DejaVu Sans Mono',consolas,'Courier New',monospace\">\n",
              "</pre>\n"
            ],
            "text/plain": [
              "\n"
            ]
          },
          "metadata": {},
          "output_type": "display_data"
        },
        {
          "data": {
            "text/html": [
              "<pre style=\"white-space:pre;overflow-x:auto;line-height:normal;font-family:Menlo,'DejaVu Sans Mono',consolas,'Courier New',monospace\"><span style=\"color: #008080; text-decoration-color: #008080; font-weight: bold\">🚀 Crew: crew</span>\n",
              "└── <span style=\"color: #808000; text-decoration-color: #808000; font-weight: bold\">📋 Task: 84058fc2-c8b0-4f87-beca-8902bbf58fc1</span>\n",
              "    <span style=\"color: #c0c0c0; text-decoration-color: #c0c0c0\">   Status: </span><span style=\"color: #bfbf7f; text-decoration-color: #bfbf7f\">Executing Task...</span>\n",
              "    └── <span style=\"color: #008000; text-decoration-color: #008000; font-weight: bold\">🤖 Agent: </span><span style=\"color: #008000; text-decoration-color: #008000\">Task Execution Planner</span>\n",
              "        <span style=\"color: #c0c0c0; text-decoration-color: #c0c0c0\">    Status: </span><span style=\"color: #008000; text-decoration-color: #008000; font-weight: bold\">In Progress</span>\n",
              "        └── <span style=\"color: #000080; text-decoration-color: #000080; font-weight: bold\">🧠 </span><span style=\"color: #000080; text-decoration-color: #000080\">Thinking...</span>\n",
              "</pre>\n"
            ],
            "text/plain": [
              "\u001b[1;36m🚀 Crew: \u001b[0m\u001b[1;36mcrew\u001b[0m\n",
              "└── \u001b[1;33m📋 Task: 84058fc2-c8b0-4f87-beca-8902bbf58fc1\u001b[0m\n",
              "    \u001b[37m   Status: \u001b[0m\u001b[2;33mExecuting Task...\u001b[0m\n",
              "    └── \u001b[1;32m🤖 Agent: \u001b[0m\u001b[32mTask Execution Planner\u001b[0m\n",
              "        \u001b[37m    Status: \u001b[0m\u001b[1;32mIn Progress\u001b[0m\n",
              "        └── \u001b[1;34m🧠 \u001b[0m\u001b[34mThinking...\u001b[0m\n"
            ]
          },
          "metadata": {},
          "output_type": "display_data"
        },
        {
          "data": {
            "text/html": [
              "<pre style=\"white-space:pre;overflow-x:auto;line-height:normal;font-family:Menlo,'DejaVu Sans Mono',consolas,'Courier New',monospace\">\n",
              "</pre>\n"
            ],
            "text/plain": [
              "\n"
            ]
          },
          "metadata": {},
          "output_type": "display_data"
        },
        {
          "data": {
            "text/html": [
              "<pre style=\"white-space:pre;overflow-x:auto;line-height:normal;font-family:Menlo,'DejaVu Sans Mono',consolas,'Courier New',monospace\"><span style=\"color: #008080; text-decoration-color: #008080; font-weight: bold\">🚀 Crew: crew</span>\n",
              "└── <span style=\"color: #808000; text-decoration-color: #808000; font-weight: bold\">📋 Task: 84058fc2-c8b0-4f87-beca-8902bbf58fc1</span>\n",
              "    <span style=\"color: #c0c0c0; text-decoration-color: #c0c0c0\">   Status: </span><span style=\"color: #bfbf7f; text-decoration-color: #bfbf7f\">Executing Task...</span>\n",
              "    └── <span style=\"color: #008000; text-decoration-color: #008000; font-weight: bold\">🤖 Agent: </span><span style=\"color: #008000; text-decoration-color: #008000\">Task Execution Planner</span>\n",
              "        <span style=\"color: #c0c0c0; text-decoration-color: #c0c0c0\">    Status: </span><span style=\"color: #008000; text-decoration-color: #008000; font-weight: bold\">In Progress</span>\n",
              "</pre>\n"
            ],
            "text/plain": [
              "\u001b[1;36m🚀 Crew: \u001b[0m\u001b[1;36mcrew\u001b[0m\n",
              "└── \u001b[1;33m📋 Task: 84058fc2-c8b0-4f87-beca-8902bbf58fc1\u001b[0m\n",
              "    \u001b[37m   Status: \u001b[0m\u001b[2;33mExecuting Task...\u001b[0m\n",
              "    └── \u001b[1;32m🤖 Agent: \u001b[0m\u001b[32mTask Execution Planner\u001b[0m\n",
              "        \u001b[37m    Status: \u001b[0m\u001b[1;32mIn Progress\u001b[0m\n"
            ]
          },
          "metadata": {},
          "output_type": "display_data"
        },
        {
          "data": {
            "text/html": [
              "<pre style=\"white-space:pre;overflow-x:auto;line-height:normal;font-family:Menlo,'DejaVu Sans Mono',consolas,'Courier New',monospace\">\n",
              "</pre>\n"
            ],
            "text/plain": [
              "\n"
            ]
          },
          "metadata": {},
          "output_type": "display_data"
        },
        {
          "data": {
            "text/html": [
              "<pre style=\"white-space:pre;overflow-x:auto;line-height:normal;font-family:Menlo,'DejaVu Sans Mono',consolas,'Courier New',monospace\"><span style=\"color: #008080; text-decoration-color: #008080; font-weight: bold\">🚀 Crew: crew</span>\n",
              "└── <span style=\"color: #808000; text-decoration-color: #808000; font-weight: bold\">📋 Task: 84058fc2-c8b0-4f87-beca-8902bbf58fc1</span>\n",
              "    <span style=\"color: #c0c0c0; text-decoration-color: #c0c0c0\">   Status: </span><span style=\"color: #bfbf7f; text-decoration-color: #bfbf7f\">Executing Task...</span>\n",
              "    └── <span style=\"color: #008000; text-decoration-color: #008000; font-weight: bold\">🤖 Agent: </span><span style=\"color: #008000; text-decoration-color: #008000\">Task Execution Planner</span>\n",
              "        <span style=\"color: #c0c0c0; text-decoration-color: #c0c0c0\">    Status: </span><span style=\"color: #008000; text-decoration-color: #008000; font-weight: bold\">✅ Completed</span>\n",
              "</pre>\n"
            ],
            "text/plain": [
              "\u001b[1;36m🚀 Crew: \u001b[0m\u001b[1;36mcrew\u001b[0m\n",
              "└── \u001b[1;33m📋 Task: 84058fc2-c8b0-4f87-beca-8902bbf58fc1\u001b[0m\n",
              "    \u001b[37m   Status: \u001b[0m\u001b[2;33mExecuting Task...\u001b[0m\n",
              "    └── \u001b[1;32m🤖 Agent: \u001b[0m\u001b[32mTask Execution Planner\u001b[0m\n",
              "        \u001b[37m    Status: \u001b[0m\u001b[1;32m✅ Completed\u001b[0m\n"
            ]
          },
          "metadata": {},
          "output_type": "display_data"
        },
        {
          "data": {
            "text/html": [
              "<pre style=\"white-space:pre;overflow-x:auto;line-height:normal;font-family:Menlo,'DejaVu Sans Mono',consolas,'Courier New',monospace\">\n",
              "</pre>\n"
            ],
            "text/plain": [
              "\n"
            ]
          },
          "metadata": {},
          "output_type": "display_data"
        },
        {
          "data": {
            "text/html": [
              "<pre style=\"white-space:pre;overflow-x:auto;line-height:normal;font-family:Menlo,'DejaVu Sans Mono',consolas,'Courier New',monospace\"><span style=\"color: #008080; text-decoration-color: #008080; font-weight: bold\">🚀 Crew: crew</span>\n",
              "└── <span style=\"color: #008000; text-decoration-color: #008000; font-weight: bold\">📋 Task: 84058fc2-c8b0-4f87-beca-8902bbf58fc1</span>\n",
              "    <span style=\"color: #c0c0c0; text-decoration-color: #c0c0c0\">   Assigned to: </span><span style=\"color: #008000; text-decoration-color: #008000\">Task Execution Planner</span>\n",
              "    <span style=\"color: #c0c0c0; text-decoration-color: #c0c0c0\">   Status: </span><span style=\"color: #008000; text-decoration-color: #008000; font-weight: bold\">✅ Completed</span>\n",
              "    └── <span style=\"color: #008000; text-decoration-color: #008000; font-weight: bold\">🤖 Agent: </span><span style=\"color: #008000; text-decoration-color: #008000\">Task Execution Planner</span>\n",
              "        <span style=\"color: #c0c0c0; text-decoration-color: #c0c0c0\">    Status: </span><span style=\"color: #008000; text-decoration-color: #008000; font-weight: bold\">✅ Completed</span>\n",
              "</pre>\n"
            ],
            "text/plain": [
              "\u001b[1;36m🚀 Crew: \u001b[0m\u001b[1;36mcrew\u001b[0m\n",
              "└── \u001b[1;32m📋 Task: 84058fc2-c8b0-4f87-beca-8902bbf58fc1\u001b[0m\n",
              "    \u001b[37m   Assigned to: \u001b[0m\u001b[32mTask Execution Planner\u001b[0m\n",
              "    \u001b[37m   Status: \u001b[0m\u001b[1;32m✅ Completed\u001b[0m\n",
              "    └── \u001b[1;32m🤖 Agent: \u001b[0m\u001b[32mTask Execution Planner\u001b[0m\n",
              "        \u001b[37m    Status: \u001b[0m\u001b[1;32m✅ Completed\u001b[0m\n"
            ]
          },
          "metadata": {},
          "output_type": "display_data"
        },
        {
          "data": {
            "text/html": [
              "<pre style=\"white-space:pre;overflow-x:auto;line-height:normal;font-family:Menlo,'DejaVu Sans Mono',consolas,'Courier New',monospace\"><span style=\"color: #008000; text-decoration-color: #008000\">╭──────────────────────────────────────────────── Task Completion ────────────────────────────────────────────────╮</span>\n",
              "<span style=\"color: #008000; text-decoration-color: #008000\">│</span>                                                                                                                 <span style=\"color: #008000; text-decoration-color: #008000\">│</span>\n",
              "<span style=\"color: #008000; text-decoration-color: #008000\">│</span>  <span style=\"color: #008000; text-decoration-color: #008000; font-weight: bold\">Task Completed</span>                                                                                                 <span style=\"color: #008000; text-decoration-color: #008000\">│</span>\n",
              "<span style=\"color: #008000; text-decoration-color: #008000\">│</span>  <span style=\"color: #c0c0c0; text-decoration-color: #c0c0c0\">Name: </span><span style=\"color: #008000; text-decoration-color: #008000\">84058fc2-c8b0-4f87-beca-8902bbf58fc1</span>                                                                     <span style=\"color: #008000; text-decoration-color: #008000\">│</span>\n",
              "<span style=\"color: #008000; text-decoration-color: #008000\">│</span>  <span style=\"color: #c0c0c0; text-decoration-color: #c0c0c0\">Agent: </span><span style=\"color: #008000; text-decoration-color: #008000\">Task Execution Planner</span>                                                                                  <span style=\"color: #008000; text-decoration-color: #008000\">│</span>\n",
              "<span style=\"color: #008000; text-decoration-color: #008000\">│</span>                                                                                                                 <span style=\"color: #008000; text-decoration-color: #008000\">│</span>\n",
              "<span style=\"color: #008000; text-decoration-color: #008000\">│</span>                                                                                                                 <span style=\"color: #008000; text-decoration-color: #008000\">│</span>\n",
              "<span style=\"color: #008000; text-decoration-color: #008000\">╰─────────────────────────────────────────────────────────────────────────────────────────────────────────────────╯</span>\n",
              "</pre>\n"
            ],
            "text/plain": [
              "\u001b[32m╭─\u001b[0m\u001b[32m───────────────────────────────────────────────\u001b[0m\u001b[32m Task Completion \u001b[0m\u001b[32m───────────────────────────────────────────────\u001b[0m\u001b[32m─╮\u001b[0m\n",
              "\u001b[32m│\u001b[0m                                                                                                                 \u001b[32m│\u001b[0m\n",
              "\u001b[32m│\u001b[0m  \u001b[1;32mTask Completed\u001b[0m                                                                                                 \u001b[32m│\u001b[0m\n",
              "\u001b[32m│\u001b[0m  \u001b[37mName: \u001b[0m\u001b[32m84058fc2-c8b0-4f87-beca-8902bbf58fc1\u001b[0m                                                                     \u001b[32m│\u001b[0m\n",
              "\u001b[32m│\u001b[0m  \u001b[37mAgent: \u001b[0m\u001b[32mTask Execution Planner\u001b[0m                                                                                  \u001b[32m│\u001b[0m\n",
              "\u001b[32m│\u001b[0m                                                                                                                 \u001b[32m│\u001b[0m\n",
              "\u001b[32m│\u001b[0m                                                                                                                 \u001b[32m│\u001b[0m\n",
              "\u001b[32m╰─────────────────────────────────────────────────────────────────────────────────────────────────────────────────╯\u001b[0m\n"
            ]
          },
          "metadata": {},
          "output_type": "display_data"
        },
        {
          "data": {
            "text/html": [
              "<pre style=\"white-space:pre;overflow-x:auto;line-height:normal;font-family:Menlo,'DejaVu Sans Mono',consolas,'Courier New',monospace\">\n",
              "</pre>\n"
            ],
            "text/plain": [
              "\n"
            ]
          },
          "metadata": {},
          "output_type": "display_data"
        },
        {
          "data": {
            "text/html": [
              "<pre style=\"white-space:pre;overflow-x:auto;line-height:normal;font-family:Menlo,'DejaVu Sans Mono',consolas,'Courier New',monospace\"><span style=\"color: #008080; text-decoration-color: #008080; font-weight: bold\">🚀 Crew: crew</span>\n",
              "├── <span style=\"color: #008000; text-decoration-color: #008000; font-weight: bold\">📋 Task: 84058fc2-c8b0-4f87-beca-8902bbf58fc1</span>\n",
              "│   <span style=\"color: #c0c0c0; text-decoration-color: #c0c0c0\">   Assigned to: </span><span style=\"color: #008000; text-decoration-color: #008000\">Task Execution Planner</span>\n",
              "│   <span style=\"color: #c0c0c0; text-decoration-color: #c0c0c0\">   Status: </span><span style=\"color: #008000; text-decoration-color: #008000; font-weight: bold\">✅ Completed</span>\n",
              "│   └── <span style=\"color: #008000; text-decoration-color: #008000; font-weight: bold\">🤖 Agent: </span><span style=\"color: #008000; text-decoration-color: #008000\">Task Execution Planner</span>\n",
              "│       <span style=\"color: #c0c0c0; text-decoration-color: #c0c0c0\">    Status: </span><span style=\"color: #008000; text-decoration-color: #008000; font-weight: bold\">✅ Completed</span>\n",
              "└── <span style=\"color: #808000; text-decoration-color: #808000; font-weight: bold\">📋 Task: 556dce38-c923-4181-b312-10c0bb2094a1</span>\n",
              "    <span style=\"color: #c0c0c0; text-decoration-color: #c0c0c0\">   Status: </span><span style=\"color: #bfbf7f; text-decoration-color: #bfbf7f\">Executing Task...</span>\n",
              "</pre>\n"
            ],
            "text/plain": [
              "\u001b[1;36m🚀 Crew: \u001b[0m\u001b[1;36mcrew\u001b[0m\n",
              "├── \u001b[1;32m📋 Task: 84058fc2-c8b0-4f87-beca-8902bbf58fc1\u001b[0m\n",
              "│   \u001b[37m   Assigned to: \u001b[0m\u001b[32mTask Execution Planner\u001b[0m\n",
              "│   \u001b[37m   Status: \u001b[0m\u001b[1;32m✅ Completed\u001b[0m\n",
              "│   └── \u001b[1;32m🤖 Agent: \u001b[0m\u001b[32mTask Execution Planner\u001b[0m\n",
              "│       \u001b[37m    Status: \u001b[0m\u001b[1;32m✅ Completed\u001b[0m\n",
              "└── \u001b[1;33m📋 Task: 556dce38-c923-4181-b312-10c0bb2094a1\u001b[0m\n",
              "    \u001b[37m   Status: \u001b[0m\u001b[2;33mExecuting Task...\u001b[0m\n"
            ]
          },
          "metadata": {},
          "output_type": "display_data"
        },
        {
          "data": {
            "text/html": [
              "<pre style=\"white-space:pre;overflow-x:auto;line-height:normal;font-family:Menlo,'DejaVu Sans Mono',consolas,'Courier New',monospace\">\n",
              "</pre>\n"
            ],
            "text/plain": [
              "\n"
            ]
          },
          "metadata": {},
          "output_type": "display_data"
        },
        {
          "data": {
            "text/html": [
              "<pre style=\"white-space:pre;overflow-x:auto;line-height:normal;font-family:Menlo,'DejaVu Sans Mono',consolas,'Courier New',monospace\"><span style=\"color: #008080; text-decoration-color: #008080; font-weight: bold\">🚀 Crew: crew</span>\n",
              "├── <span style=\"color: #008000; text-decoration-color: #008000; font-weight: bold\">📋 Task: 84058fc2-c8b0-4f87-beca-8902bbf58fc1</span>\n",
              "│   <span style=\"color: #c0c0c0; text-decoration-color: #c0c0c0\">   Assigned to: </span><span style=\"color: #008000; text-decoration-color: #008000\">Task Execution Planner</span>\n",
              "│   <span style=\"color: #c0c0c0; text-decoration-color: #c0c0c0\">   Status: </span><span style=\"color: #008000; text-decoration-color: #008000; font-weight: bold\">✅ Completed</span>\n",
              "│   └── <span style=\"color: #008000; text-decoration-color: #008000; font-weight: bold\">🤖 Agent: </span><span style=\"color: #008000; text-decoration-color: #008000\">Task Execution Planner</span>\n",
              "│       <span style=\"color: #c0c0c0; text-decoration-color: #c0c0c0\">    Status: </span><span style=\"color: #008000; text-decoration-color: #008000; font-weight: bold\">✅ Completed</span>\n",
              "└── <span style=\"color: #808000; text-decoration-color: #808000; font-weight: bold\">📋 Task: 556dce38-c923-4181-b312-10c0bb2094a1</span>\n",
              "    <span style=\"color: #c0c0c0; text-decoration-color: #c0c0c0\">   Status: </span><span style=\"color: #bfbf7f; text-decoration-color: #bfbf7f\">Executing Task...</span>\n",
              "    └── <span style=\"color: #008000; text-decoration-color: #008000; font-weight: bold\">🤖 Agent: </span><span style=\"color: #008000; text-decoration-color: #008000\">Research Expert</span>\n",
              "        <span style=\"color: #c0c0c0; text-decoration-color: #c0c0c0\">    Status: </span><span style=\"color: #008000; text-decoration-color: #008000; font-weight: bold\">In Progress</span>\n",
              "</pre>\n"
            ],
            "text/plain": [
              "\u001b[1;36m🚀 Crew: \u001b[0m\u001b[1;36mcrew\u001b[0m\n",
              "├── \u001b[1;32m📋 Task: 84058fc2-c8b0-4f87-beca-8902bbf58fc1\u001b[0m\n",
              "│   \u001b[37m   Assigned to: \u001b[0m\u001b[32mTask Execution Planner\u001b[0m\n",
              "│   \u001b[37m   Status: \u001b[0m\u001b[1;32m✅ Completed\u001b[0m\n",
              "│   └── \u001b[1;32m🤖 Agent: \u001b[0m\u001b[32mTask Execution Planner\u001b[0m\n",
              "│       \u001b[37m    Status: \u001b[0m\u001b[1;32m✅ Completed\u001b[0m\n",
              "└── \u001b[1;33m📋 Task: 556dce38-c923-4181-b312-10c0bb2094a1\u001b[0m\n",
              "    \u001b[37m   Status: \u001b[0m\u001b[2;33mExecuting Task...\u001b[0m\n",
              "    └── \u001b[1;32m🤖 Agent: \u001b[0m\u001b[32mResearch Expert\u001b[0m\n",
              "        \u001b[37m    Status: \u001b[0m\u001b[1;32mIn Progress\u001b[0m\n"
            ]
          },
          "metadata": {},
          "output_type": "display_data"
        },
        {
          "data": {
            "text/html": [
              "<pre style=\"white-space:pre;overflow-x:auto;line-height:normal;font-family:Menlo,'DejaVu Sans Mono',consolas,'Courier New',monospace\">\n",
              "</pre>\n"
            ],
            "text/plain": [
              "\n"
            ]
          },
          "metadata": {},
          "output_type": "display_data"
        },
        {
          "name": "stdout",
          "output_type": "stream",
          "text": [
            "\u001b[1m\u001b[95m# Agent:\u001b[00m \u001b[1m\u001b[92mResearch Expert\u001b[00m\n",
            "\u001b[95m## Task:\u001b[00m \u001b[92mResearch and analyze information relevant to: What are the key details about the FA Cup third round draw? Include information about Manchester United vs Arsenal, Tamworth vs Tottenham, and other notable fixtures.1. The Research Expert will identify the main query regarding the FA Cup third round draw, focusing on Manchester United vs Arsenal, Tamworth vs Tottenham, and other significant fixtures. 2. Using the 'vector_search' tool, the expert will input the query as a simple text string to search for relevant documents utilizing vector similarity algorithms. 3. The search results will consist of a list of documents containing insights and data about notable fixtures, including match previews, historical context, and expectations for the matches. 4. The expert will sift through the results, taking note of key findings and supporting evidence about each fixture, emphasizing the background and any associated narratives. 5. Finally, the expert will compile this researched information into a detailed analysis summarizing key points related to the FA Cup third round draw.\u001b[00m\n"
          ]
        },
        {
          "data": {
            "text/html": [
              "<pre style=\"white-space:pre;overflow-x:auto;line-height:normal;font-family:Menlo,'DejaVu Sans Mono',consolas,'Courier New',monospace\"><span style=\"color: #008080; text-decoration-color: #008080; font-weight: bold\">🚀 Crew: crew</span>\n",
              "├── <span style=\"color: #008000; text-decoration-color: #008000; font-weight: bold\">📋 Task: 84058fc2-c8b0-4f87-beca-8902bbf58fc1</span>\n",
              "│   <span style=\"color: #c0c0c0; text-decoration-color: #c0c0c0\">   Assigned to: </span><span style=\"color: #008000; text-decoration-color: #008000\">Task Execution Planner</span>\n",
              "│   <span style=\"color: #c0c0c0; text-decoration-color: #c0c0c0\">   Status: </span><span style=\"color: #008000; text-decoration-color: #008000; font-weight: bold\">✅ Completed</span>\n",
              "│   └── <span style=\"color: #008000; text-decoration-color: #008000; font-weight: bold\">🤖 Agent: </span><span style=\"color: #008000; text-decoration-color: #008000\">Task Execution Planner</span>\n",
              "│       <span style=\"color: #c0c0c0; text-decoration-color: #c0c0c0\">    Status: </span><span style=\"color: #008000; text-decoration-color: #008000; font-weight: bold\">✅ Completed</span>\n",
              "└── <span style=\"color: #808000; text-decoration-color: #808000; font-weight: bold\">📋 Task: 556dce38-c923-4181-b312-10c0bb2094a1</span>\n",
              "    <span style=\"color: #c0c0c0; text-decoration-color: #c0c0c0\">   Status: </span><span style=\"color: #bfbf7f; text-decoration-color: #bfbf7f\">Executing Task...</span>\n",
              "    └── <span style=\"color: #008000; text-decoration-color: #008000; font-weight: bold\">🤖 Agent: </span><span style=\"color: #008000; text-decoration-color: #008000\">Research Expert</span>\n",
              "        <span style=\"color: #c0c0c0; text-decoration-color: #c0c0c0\">    Status: </span><span style=\"color: #008000; text-decoration-color: #008000; font-weight: bold\">In Progress</span>\n",
              "        └── <span style=\"color: #000080; text-decoration-color: #000080; font-weight: bold\">🧠 </span><span style=\"color: #000080; text-decoration-color: #000080\">Thinking...</span>\n",
              "</pre>\n"
            ],
            "text/plain": [
              "\u001b[1;36m🚀 Crew: \u001b[0m\u001b[1;36mcrew\u001b[0m\n",
              "├── \u001b[1;32m📋 Task: 84058fc2-c8b0-4f87-beca-8902bbf58fc1\u001b[0m\n",
              "│   \u001b[37m   Assigned to: \u001b[0m\u001b[32mTask Execution Planner\u001b[0m\n",
              "│   \u001b[37m   Status: \u001b[0m\u001b[1;32m✅ Completed\u001b[0m\n",
              "│   └── \u001b[1;32m🤖 Agent: \u001b[0m\u001b[32mTask Execution Planner\u001b[0m\n",
              "│       \u001b[37m    Status: \u001b[0m\u001b[1;32m✅ Completed\u001b[0m\n",
              "└── \u001b[1;33m📋 Task: 556dce38-c923-4181-b312-10c0bb2094a1\u001b[0m\n",
              "    \u001b[37m   Status: \u001b[0m\u001b[2;33mExecuting Task...\u001b[0m\n",
              "    └── \u001b[1;32m🤖 Agent: \u001b[0m\u001b[32mResearch Expert\u001b[0m\n",
              "        \u001b[37m    Status: \u001b[0m\u001b[1;32mIn Progress\u001b[0m\n",
              "        └── \u001b[1;34m🧠 \u001b[0m\u001b[34mThinking...\u001b[0m\n"
            ]
          },
          "metadata": {},
          "output_type": "display_data"
        },
        {
          "data": {
            "text/html": [
              "<pre style=\"white-space:pre;overflow-x:auto;line-height:normal;font-family:Menlo,'DejaVu Sans Mono',consolas,'Courier New',monospace\">\n",
              "</pre>\n"
            ],
            "text/plain": [
              "\n"
            ]
          },
          "metadata": {},
          "output_type": "display_data"
        },
        {
          "data": {
            "text/html": [
              "<pre style=\"white-space:pre;overflow-x:auto;line-height:normal;font-family:Menlo,'DejaVu Sans Mono',consolas,'Courier New',monospace\"><span style=\"color: #008080; text-decoration-color: #008080; font-weight: bold\">🚀 Crew: crew</span>\n",
              "├── <span style=\"color: #008000; text-decoration-color: #008000; font-weight: bold\">📋 Task: 84058fc2-c8b0-4f87-beca-8902bbf58fc1</span>\n",
              "│   <span style=\"color: #c0c0c0; text-decoration-color: #c0c0c0\">   Assigned to: </span><span style=\"color: #008000; text-decoration-color: #008000\">Task Execution Planner</span>\n",
              "│   <span style=\"color: #c0c0c0; text-decoration-color: #c0c0c0\">   Status: </span><span style=\"color: #008000; text-decoration-color: #008000; font-weight: bold\">✅ Completed</span>\n",
              "│   └── <span style=\"color: #008000; text-decoration-color: #008000; font-weight: bold\">🤖 Agent: </span><span style=\"color: #008000; text-decoration-color: #008000\">Task Execution Planner</span>\n",
              "│       <span style=\"color: #c0c0c0; text-decoration-color: #c0c0c0\">    Status: </span><span style=\"color: #008000; text-decoration-color: #008000; font-weight: bold\">✅ Completed</span>\n",
              "└── <span style=\"color: #808000; text-decoration-color: #808000; font-weight: bold\">📋 Task: 556dce38-c923-4181-b312-10c0bb2094a1</span>\n",
              "    <span style=\"color: #c0c0c0; text-decoration-color: #c0c0c0\">   Status: </span><span style=\"color: #bfbf7f; text-decoration-color: #bfbf7f\">Executing Task...</span>\n",
              "    └── <span style=\"color: #008000; text-decoration-color: #008000; font-weight: bold\">🤖 Agent: </span><span style=\"color: #008000; text-decoration-color: #008000\">Research Expert</span>\n",
              "        <span style=\"color: #c0c0c0; text-decoration-color: #c0c0c0\">    Status: </span><span style=\"color: #008000; text-decoration-color: #008000; font-weight: bold\">In Progress</span>\n",
              "</pre>\n"
            ],
            "text/plain": [
              "\u001b[1;36m🚀 Crew: \u001b[0m\u001b[1;36mcrew\u001b[0m\n",
              "├── \u001b[1;32m📋 Task: 84058fc2-c8b0-4f87-beca-8902bbf58fc1\u001b[0m\n",
              "│   \u001b[37m   Assigned to: \u001b[0m\u001b[32mTask Execution Planner\u001b[0m\n",
              "│   \u001b[37m   Status: \u001b[0m\u001b[1;32m✅ Completed\u001b[0m\n",
              "│   └── \u001b[1;32m🤖 Agent: \u001b[0m\u001b[32mTask Execution Planner\u001b[0m\n",
              "│       \u001b[37m    Status: \u001b[0m\u001b[1;32m✅ Completed\u001b[0m\n",
              "└── \u001b[1;33m📋 Task: 556dce38-c923-4181-b312-10c0bb2094a1\u001b[0m\n",
              "    \u001b[37m   Status: \u001b[0m\u001b[2;33mExecuting Task...\u001b[0m\n",
              "    └── \u001b[1;32m🤖 Agent: \u001b[0m\u001b[32mResearch Expert\u001b[0m\n",
              "        \u001b[37m    Status: \u001b[0m\u001b[1;32mIn Progress\u001b[0m\n"
            ]
          },
          "metadata": {},
          "output_type": "display_data"
        },
        {
          "data": {
            "text/html": [
              "<pre style=\"white-space:pre;overflow-x:auto;line-height:normal;font-family:Menlo,'DejaVu Sans Mono',consolas,'Courier New',monospace\">\n",
              "</pre>\n"
            ],
            "text/plain": [
              "\n"
            ]
          },
          "metadata": {},
          "output_type": "display_data"
        },
        {
          "data": {
            "text/html": [
              "<pre style=\"white-space:pre;overflow-x:auto;line-height:normal;font-family:Menlo,'DejaVu Sans Mono',consolas,'Courier New',monospace\"><span style=\"color: #008080; text-decoration-color: #008080; font-weight: bold\">🚀 Crew: crew</span>\n",
              "├── <span style=\"color: #008000; text-decoration-color: #008000; font-weight: bold\">📋 Task: 84058fc2-c8b0-4f87-beca-8902bbf58fc1</span>\n",
              "│   <span style=\"color: #c0c0c0; text-decoration-color: #c0c0c0\">   Assigned to: </span><span style=\"color: #008000; text-decoration-color: #008000\">Task Execution Planner</span>\n",
              "│   <span style=\"color: #c0c0c0; text-decoration-color: #c0c0c0\">   Status: </span><span style=\"color: #008000; text-decoration-color: #008000; font-weight: bold\">✅ Completed</span>\n",
              "│   └── <span style=\"color: #008000; text-decoration-color: #008000; font-weight: bold\">🤖 Agent: </span><span style=\"color: #008000; text-decoration-color: #008000\">Task Execution Planner</span>\n",
              "│       <span style=\"color: #c0c0c0; text-decoration-color: #c0c0c0\">    Status: </span><span style=\"color: #008000; text-decoration-color: #008000; font-weight: bold\">✅ Completed</span>\n",
              "└── <span style=\"color: #808000; text-decoration-color: #808000; font-weight: bold\">📋 Task: 556dce38-c923-4181-b312-10c0bb2094a1</span>\n",
              "    <span style=\"color: #c0c0c0; text-decoration-color: #c0c0c0\">   Status: </span><span style=\"color: #bfbf7f; text-decoration-color: #bfbf7f\">Executing Task...</span>\n",
              "    └── <span style=\"color: #008000; text-decoration-color: #008000; font-weight: bold\">🤖 Agent: </span><span style=\"color: #008000; text-decoration-color: #008000\">Research Expert</span>\n",
              "        <span style=\"color: #c0c0c0; text-decoration-color: #c0c0c0\">    Status: </span><span style=\"color: #008000; text-decoration-color: #008000; font-weight: bold\">In Progress</span>\n",
              "        └── <span style=\"color: #808000; text-decoration-color: #808000; font-weight: bold\">🔧 </span><span style=\"color: #808000; text-decoration-color: #808000\">Using vector_search (2)</span>\n",
              "</pre>\n"
            ],
            "text/plain": [
              "\u001b[1;36m🚀 Crew: \u001b[0m\u001b[1;36mcrew\u001b[0m\n",
              "├── \u001b[1;32m📋 Task: 84058fc2-c8b0-4f87-beca-8902bbf58fc1\u001b[0m\n",
              "│   \u001b[37m   Assigned to: \u001b[0m\u001b[32mTask Execution Planner\u001b[0m\n",
              "│   \u001b[37m   Status: \u001b[0m\u001b[1;32m✅ Completed\u001b[0m\n",
              "│   └── \u001b[1;32m🤖 Agent: \u001b[0m\u001b[32mTask Execution Planner\u001b[0m\n",
              "│       \u001b[37m    Status: \u001b[0m\u001b[1;32m✅ Completed\u001b[0m\n",
              "└── \u001b[1;33m📋 Task: 556dce38-c923-4181-b312-10c0bb2094a1\u001b[0m\n",
              "    \u001b[37m   Status: \u001b[0m\u001b[2;33mExecuting Task...\u001b[0m\n",
              "    └── \u001b[1;32m🤖 Agent: \u001b[0m\u001b[32mResearch Expert\u001b[0m\n",
              "        \u001b[37m    Status: \u001b[0m\u001b[1;32mIn Progress\u001b[0m\n",
              "        └── \u001b[1;33m🔧 \u001b[0m\u001b[33mUsing vector_search (2)\u001b[0m\n"
            ]
          },
          "metadata": {},
          "output_type": "display_data"
        },
        {
          "data": {
            "text/html": [
              "<pre style=\"white-space:pre;overflow-x:auto;line-height:normal;font-family:Menlo,'DejaVu Sans Mono',consolas,'Courier New',monospace\">\n",
              "</pre>\n"
            ],
            "text/plain": [
              "\n"
            ]
          },
          "metadata": {},
          "output_type": "display_data"
        },
        {
          "data": {
            "text/html": [
              "<pre style=\"white-space:pre;overflow-x:auto;line-height:normal;font-family:Menlo,'DejaVu Sans Mono',consolas,'Courier New',monospace\"><span style=\"color: #008080; text-decoration-color: #008080; font-weight: bold\">🚀 Crew: crew</span>\n",
              "├── <span style=\"color: #008000; text-decoration-color: #008000; font-weight: bold\">📋 Task: 84058fc2-c8b0-4f87-beca-8902bbf58fc1</span>\n",
              "│   <span style=\"color: #c0c0c0; text-decoration-color: #c0c0c0\">   Assigned to: </span><span style=\"color: #008000; text-decoration-color: #008000\">Task Execution Planner</span>\n",
              "│   <span style=\"color: #c0c0c0; text-decoration-color: #c0c0c0\">   Status: </span><span style=\"color: #008000; text-decoration-color: #008000; font-weight: bold\">✅ Completed</span>\n",
              "│   └── <span style=\"color: #008000; text-decoration-color: #008000; font-weight: bold\">🤖 Agent: </span><span style=\"color: #008000; text-decoration-color: #008000\">Task Execution Planner</span>\n",
              "│       <span style=\"color: #c0c0c0; text-decoration-color: #c0c0c0\">    Status: </span><span style=\"color: #008000; text-decoration-color: #008000; font-weight: bold\">✅ Completed</span>\n",
              "└── <span style=\"color: #808000; text-decoration-color: #808000; font-weight: bold\">📋 Task: 556dce38-c923-4181-b312-10c0bb2094a1</span>\n",
              "    <span style=\"color: #c0c0c0; text-decoration-color: #c0c0c0\">   Status: </span><span style=\"color: #bfbf7f; text-decoration-color: #bfbf7f\">Executing Task...</span>\n",
              "    └── <span style=\"color: #008000; text-decoration-color: #008000; font-weight: bold\">🤖 Agent: </span><span style=\"color: #008000; text-decoration-color: #008000\">Research Expert</span>\n",
              "        <span style=\"color: #c0c0c0; text-decoration-color: #c0c0c0\">    Status: </span><span style=\"color: #008000; text-decoration-color: #008000; font-weight: bold\">In Progress</span>\n",
              "        └── <span style=\"color: #008000; text-decoration-color: #008000; font-weight: bold\">🔧 </span><span style=\"color: #008000; text-decoration-color: #008000\">Used vector_search (2)</span>\n",
              "</pre>\n"
            ],
            "text/plain": [
              "\u001b[1;36m🚀 Crew: \u001b[0m\u001b[1;36mcrew\u001b[0m\n",
              "├── \u001b[1;32m📋 Task: 84058fc2-c8b0-4f87-beca-8902bbf58fc1\u001b[0m\n",
              "│   \u001b[37m   Assigned to: \u001b[0m\u001b[32mTask Execution Planner\u001b[0m\n",
              "│   \u001b[37m   Status: \u001b[0m\u001b[1;32m✅ Completed\u001b[0m\n",
              "│   └── \u001b[1;32m🤖 Agent: \u001b[0m\u001b[32mTask Execution Planner\u001b[0m\n",
              "│       \u001b[37m    Status: \u001b[0m\u001b[1;32m✅ Completed\u001b[0m\n",
              "└── \u001b[1;33m📋 Task: 556dce38-c923-4181-b312-10c0bb2094a1\u001b[0m\n",
              "    \u001b[37m   Status: \u001b[0m\u001b[2;33mExecuting Task...\u001b[0m\n",
              "    └── \u001b[1;32m🤖 Agent: \u001b[0m\u001b[32mResearch Expert\u001b[0m\n",
              "        \u001b[37m    Status: \u001b[0m\u001b[1;32mIn Progress\u001b[0m\n",
              "        └── \u001b[1;32m🔧 \u001b[0m\u001b[32mUsed vector_search (2)\u001b[0m\n"
            ]
          },
          "metadata": {},
          "output_type": "display_data"
        },
        {
          "data": {
            "text/html": [
              "<pre style=\"white-space:pre;overflow-x:auto;line-height:normal;font-family:Menlo,'DejaVu Sans Mono',consolas,'Courier New',monospace\">\n",
              "</pre>\n"
            ],
            "text/plain": [
              "\n"
            ]
          },
          "metadata": {},
          "output_type": "display_data"
        },
        {
          "name": "stdout",
          "output_type": "stream",
          "text": [
            "\n",
            "\n",
            "\u001b[1m\u001b[95m# Agent:\u001b[00m \u001b[1m\u001b[92mResearch Expert\u001b[00m\n",
            "\u001b[95m## Thought:\u001b[00m \u001b[92mThought: I need to find detailed information about the FA Cup third round draw, including Manchester United vs Arsenal, Tamworth vs Tottenham, and other notable fixtures. I'll start by searching for relevant documents using the vector search tool.\u001b[00m\n",
            "\u001b[95m## Using tool:\u001b[00m \u001b[92mvector_search\u001b[00m\n",
            "\u001b[95m## Tool Input:\u001b[00m \u001b[92m\n",
            "\"{\\\"query\\\": \\\"FA Cup third round draw Manchester United vs Arsenal Tamworth vs Tottenham\\\"}\"\u001b[00m\n",
            "\u001b[95m## Tool Output:\u001b[00m \u001b[92m\n",
            "\u001b[00m\n"
          ]
        },
        {
          "data": {
            "text/html": [
              "<pre style=\"white-space:pre;overflow-x:auto;line-height:normal;font-family:Menlo,'DejaVu Sans Mono',consolas,'Courier New',monospace\"><span style=\"color: #008080; text-decoration-color: #008080; font-weight: bold\">🚀 Crew: crew</span>\n",
              "├── <span style=\"color: #008000; text-decoration-color: #008000; font-weight: bold\">📋 Task: 84058fc2-c8b0-4f87-beca-8902bbf58fc1</span>\n",
              "│   <span style=\"color: #c0c0c0; text-decoration-color: #c0c0c0\">   Assigned to: </span><span style=\"color: #008000; text-decoration-color: #008000\">Task Execution Planner</span>\n",
              "│   <span style=\"color: #c0c0c0; text-decoration-color: #c0c0c0\">   Status: </span><span style=\"color: #008000; text-decoration-color: #008000; font-weight: bold\">✅ Completed</span>\n",
              "│   └── <span style=\"color: #008000; text-decoration-color: #008000; font-weight: bold\">🤖 Agent: </span><span style=\"color: #008000; text-decoration-color: #008000\">Task Execution Planner</span>\n",
              "│       <span style=\"color: #c0c0c0; text-decoration-color: #c0c0c0\">    Status: </span><span style=\"color: #008000; text-decoration-color: #008000; font-weight: bold\">✅ Completed</span>\n",
              "└── <span style=\"color: #808000; text-decoration-color: #808000; font-weight: bold\">📋 Task: 556dce38-c923-4181-b312-10c0bb2094a1</span>\n",
              "    <span style=\"color: #c0c0c0; text-decoration-color: #c0c0c0\">   Status: </span><span style=\"color: #bfbf7f; text-decoration-color: #bfbf7f\">Executing Task...</span>\n",
              "    └── <span style=\"color: #008000; text-decoration-color: #008000; font-weight: bold\">🤖 Agent: </span><span style=\"color: #008000; text-decoration-color: #008000\">Research Expert</span>\n",
              "        <span style=\"color: #c0c0c0; text-decoration-color: #c0c0c0\">    Status: </span><span style=\"color: #008000; text-decoration-color: #008000; font-weight: bold\">In Progress</span>\n",
              "        ├── <span style=\"color: #008000; text-decoration-color: #008000; font-weight: bold\">🔧 </span><span style=\"color: #008000; text-decoration-color: #008000\">Used vector_search (2)</span>\n",
              "        └── <span style=\"color: #000080; text-decoration-color: #000080; font-weight: bold\">🧠 </span><span style=\"color: #000080; text-decoration-color: #000080\">Thinking...</span>\n",
              "</pre>\n"
            ],
            "text/plain": [
              "\u001b[1;36m🚀 Crew: \u001b[0m\u001b[1;36mcrew\u001b[0m\n",
              "├── \u001b[1;32m📋 Task: 84058fc2-c8b0-4f87-beca-8902bbf58fc1\u001b[0m\n",
              "│   \u001b[37m   Assigned to: \u001b[0m\u001b[32mTask Execution Planner\u001b[0m\n",
              "│   \u001b[37m   Status: \u001b[0m\u001b[1;32m✅ Completed\u001b[0m\n",
              "│   └── \u001b[1;32m🤖 Agent: \u001b[0m\u001b[32mTask Execution Planner\u001b[0m\n",
              "│       \u001b[37m    Status: \u001b[0m\u001b[1;32m✅ Completed\u001b[0m\n",
              "└── \u001b[1;33m📋 Task: 556dce38-c923-4181-b312-10c0bb2094a1\u001b[0m\n",
              "    \u001b[37m   Status: \u001b[0m\u001b[2;33mExecuting Task...\u001b[0m\n",
              "    └── \u001b[1;32m🤖 Agent: \u001b[0m\u001b[32mResearch Expert\u001b[0m\n",
              "        \u001b[37m    Status: \u001b[0m\u001b[1;32mIn Progress\u001b[0m\n",
              "        ├── \u001b[1;32m🔧 \u001b[0m\u001b[32mUsed vector_search (2)\u001b[0m\n",
              "        └── \u001b[1;34m🧠 \u001b[0m\u001b[34mThinking...\u001b[0m\n"
            ]
          },
          "metadata": {},
          "output_type": "display_data"
        },
        {
          "data": {
            "text/html": [
              "<pre style=\"white-space:pre;overflow-x:auto;line-height:normal;font-family:Menlo,'DejaVu Sans Mono',consolas,'Courier New',monospace\">\n",
              "</pre>\n"
            ],
            "text/plain": [
              "\n"
            ]
          },
          "metadata": {},
          "output_type": "display_data"
        },
        {
          "data": {
            "text/html": [
              "<pre style=\"white-space:pre;overflow-x:auto;line-height:normal;font-family:Menlo,'DejaVu Sans Mono',consolas,'Courier New',monospace\"><span style=\"color: #008080; text-decoration-color: #008080; font-weight: bold\">🚀 Crew: crew</span>\n",
              "├── <span style=\"color: #008000; text-decoration-color: #008000; font-weight: bold\">📋 Task: 84058fc2-c8b0-4f87-beca-8902bbf58fc1</span>\n",
              "│   <span style=\"color: #c0c0c0; text-decoration-color: #c0c0c0\">   Assigned to: </span><span style=\"color: #008000; text-decoration-color: #008000\">Task Execution Planner</span>\n",
              "│   <span style=\"color: #c0c0c0; text-decoration-color: #c0c0c0\">   Status: </span><span style=\"color: #008000; text-decoration-color: #008000; font-weight: bold\">✅ Completed</span>\n",
              "│   └── <span style=\"color: #008000; text-decoration-color: #008000; font-weight: bold\">🤖 Agent: </span><span style=\"color: #008000; text-decoration-color: #008000\">Task Execution Planner</span>\n",
              "│       <span style=\"color: #c0c0c0; text-decoration-color: #c0c0c0\">    Status: </span><span style=\"color: #008000; text-decoration-color: #008000; font-weight: bold\">✅ Completed</span>\n",
              "└── <span style=\"color: #808000; text-decoration-color: #808000; font-weight: bold\">📋 Task: 556dce38-c923-4181-b312-10c0bb2094a1</span>\n",
              "    <span style=\"color: #c0c0c0; text-decoration-color: #c0c0c0\">   Status: </span><span style=\"color: #bfbf7f; text-decoration-color: #bfbf7f\">Executing Task...</span>\n",
              "    └── <span style=\"color: #008000; text-decoration-color: #008000; font-weight: bold\">🤖 Agent: </span><span style=\"color: #008000; text-decoration-color: #008000\">Research Expert</span>\n",
              "        <span style=\"color: #c0c0c0; text-decoration-color: #c0c0c0\">    Status: </span><span style=\"color: #008000; text-decoration-color: #008000; font-weight: bold\">In Progress</span>\n",
              "        └── <span style=\"color: #008000; text-decoration-color: #008000; font-weight: bold\">🔧 </span><span style=\"color: #008000; text-decoration-color: #008000\">Used vector_search (2)</span>\n",
              "</pre>\n"
            ],
            "text/plain": [
              "\u001b[1;36m🚀 Crew: \u001b[0m\u001b[1;36mcrew\u001b[0m\n",
              "├── \u001b[1;32m📋 Task: 84058fc2-c8b0-4f87-beca-8902bbf58fc1\u001b[0m\n",
              "│   \u001b[37m   Assigned to: \u001b[0m\u001b[32mTask Execution Planner\u001b[0m\n",
              "│   \u001b[37m   Status: \u001b[0m\u001b[1;32m✅ Completed\u001b[0m\n",
              "│   └── \u001b[1;32m🤖 Agent: \u001b[0m\u001b[32mTask Execution Planner\u001b[0m\n",
              "│       \u001b[37m    Status: \u001b[0m\u001b[1;32m✅ Completed\u001b[0m\n",
              "└── \u001b[1;33m📋 Task: 556dce38-c923-4181-b312-10c0bb2094a1\u001b[0m\n",
              "    \u001b[37m   Status: \u001b[0m\u001b[2;33mExecuting Task...\u001b[0m\n",
              "    └── \u001b[1;32m🤖 Agent: \u001b[0m\u001b[32mResearch Expert\u001b[0m\n",
              "        \u001b[37m    Status: \u001b[0m\u001b[1;32mIn Progress\u001b[0m\n",
              "        └── \u001b[1;32m🔧 \u001b[0m\u001b[32mUsed vector_search (2)\u001b[0m\n"
            ]
          },
          "metadata": {},
          "output_type": "display_data"
        },
        {
          "data": {
            "text/html": [
              "<pre style=\"white-space:pre;overflow-x:auto;line-height:normal;font-family:Menlo,'DejaVu Sans Mono',consolas,'Courier New',monospace\">\n",
              "</pre>\n"
            ],
            "text/plain": [
              "\n"
            ]
          },
          "metadata": {},
          "output_type": "display_data"
        },
        {
          "name": "stdout",
          "output_type": "stream",
          "text": [
            "\n",
            "\n",
            "\u001b[1m\u001b[95m# Agent:\u001b[00m \u001b[1m\u001b[92mResearch Expert\u001b[00m\n",
            "\u001b[95m## Final Answer:\u001b[00m \u001b[92m\n",
            "The FA Cup third round draw has thrown up some exciting matches, including Manchester United vs Arsenal and Tamworth vs Tottenham. Manchester United come into the match in good form, having won their last three league matches, while Arsenal have been struggling in recent weeks. Tamworth, meanwhile, will be looking to make the most of their day out against Tottenham, but they'll know it won't be easy against a team of Tottenham's quality.\n",
            "\n",
            "Other notable fixtures include Liverpool vs Everton, Chelsea vs Morecambe, and Manchester City vs Swindon Town. All of these matches are set to be exciting encounters, with the potential for upsets on the cards.\n",
            "\n",
            "In terms of history, Manchester United have won the FA Cup a record 12 times, while Arsenal have lifted the trophy 13 times. Tottenham, meanwhile, have won the FA Cup eight times, but they've not won it since 1991.\n",
            "\n",
            "The match between Manchester United and Arsenal is set to be a cracker, with both teams looking to progress to the next round. The two teams have a rich history in the competition, and this match is set to be a real barnburner.\n",
            "\n",
            "The tie between Tamworth and Tottenham is also an interesting one, with the non-league side looking to cause an upset against the Premier League team. Tamworth has never made it past the third round of the competition before, but they'll be hoping to make history against Tottenham.\n",
            "\n",
            "Overall, the FA Cup third round draw has set up some exciting matches, with plenty of potential for upsets and surprises.\u001b[00m\n",
            "\n",
            "\n"
          ]
        },
        {
          "data": {
            "text/html": [
              "<pre style=\"white-space:pre;overflow-x:auto;line-height:normal;font-family:Menlo,'DejaVu Sans Mono',consolas,'Courier New',monospace\"><span style=\"color: #008080; text-decoration-color: #008080; font-weight: bold\">🚀 Crew: crew</span>\n",
              "├── <span style=\"color: #008000; text-decoration-color: #008000; font-weight: bold\">📋 Task: 84058fc2-c8b0-4f87-beca-8902bbf58fc1</span>\n",
              "│   <span style=\"color: #c0c0c0; text-decoration-color: #c0c0c0\">   Assigned to: </span><span style=\"color: #008000; text-decoration-color: #008000\">Task Execution Planner</span>\n",
              "│   <span style=\"color: #c0c0c0; text-decoration-color: #c0c0c0\">   Status: </span><span style=\"color: #008000; text-decoration-color: #008000; font-weight: bold\">✅ Completed</span>\n",
              "│   └── <span style=\"color: #008000; text-decoration-color: #008000; font-weight: bold\">🤖 Agent: </span><span style=\"color: #008000; text-decoration-color: #008000\">Task Execution Planner</span>\n",
              "│       <span style=\"color: #c0c0c0; text-decoration-color: #c0c0c0\">    Status: </span><span style=\"color: #008000; text-decoration-color: #008000; font-weight: bold\">✅ Completed</span>\n",
              "└── <span style=\"color: #808000; text-decoration-color: #808000; font-weight: bold\">📋 Task: 556dce38-c923-4181-b312-10c0bb2094a1</span>\n",
              "    <span style=\"color: #c0c0c0; text-decoration-color: #c0c0c0\">   Status: </span><span style=\"color: #bfbf7f; text-decoration-color: #bfbf7f\">Executing Task...</span>\n",
              "    └── <span style=\"color: #008000; text-decoration-color: #008000; font-weight: bold\">🤖 Agent: </span><span style=\"color: #008000; text-decoration-color: #008000\">Research Expert</span>\n",
              "        <span style=\"color: #c0c0c0; text-decoration-color: #c0c0c0\">    Status: </span><span style=\"color: #008000; text-decoration-color: #008000; font-weight: bold\">✅ Completed</span>\n",
              "        └── <span style=\"color: #008000; text-decoration-color: #008000; font-weight: bold\">🔧 </span><span style=\"color: #008000; text-decoration-color: #008000\">Used vector_search (2)</span>\n",
              "</pre>\n"
            ],
            "text/plain": [
              "\u001b[1;36m🚀 Crew: \u001b[0m\u001b[1;36mcrew\u001b[0m\n",
              "├── \u001b[1;32m📋 Task: 84058fc2-c8b0-4f87-beca-8902bbf58fc1\u001b[0m\n",
              "│   \u001b[37m   Assigned to: \u001b[0m\u001b[32mTask Execution Planner\u001b[0m\n",
              "│   \u001b[37m   Status: \u001b[0m\u001b[1;32m✅ Completed\u001b[0m\n",
              "│   └── \u001b[1;32m🤖 Agent: \u001b[0m\u001b[32mTask Execution Planner\u001b[0m\n",
              "│       \u001b[37m    Status: \u001b[0m\u001b[1;32m✅ Completed\u001b[0m\n",
              "└── \u001b[1;33m📋 Task: 556dce38-c923-4181-b312-10c0bb2094a1\u001b[0m\n",
              "    \u001b[37m   Status: \u001b[0m\u001b[2;33mExecuting Task...\u001b[0m\n",
              "    └── \u001b[1;32m🤖 Agent: \u001b[0m\u001b[32mResearch Expert\u001b[0m\n",
              "        \u001b[37m    Status: \u001b[0m\u001b[1;32m✅ Completed\u001b[0m\n",
              "        └── \u001b[1;32m🔧 \u001b[0m\u001b[32mUsed vector_search (2)\u001b[0m\n"
            ]
          },
          "metadata": {},
          "output_type": "display_data"
        },
        {
          "data": {
            "text/html": [
              "<pre style=\"white-space:pre;overflow-x:auto;line-height:normal;font-family:Menlo,'DejaVu Sans Mono',consolas,'Courier New',monospace\">\n",
              "</pre>\n"
            ],
            "text/plain": [
              "\n"
            ]
          },
          "metadata": {},
          "output_type": "display_data"
        },
        {
          "data": {
            "text/html": [
              "<pre style=\"white-space:pre;overflow-x:auto;line-height:normal;font-family:Menlo,'DejaVu Sans Mono',consolas,'Courier New',monospace\"><span style=\"color: #008080; text-decoration-color: #008080; font-weight: bold\">🚀 Crew: crew</span>\n",
              "├── <span style=\"color: #008000; text-decoration-color: #008000; font-weight: bold\">📋 Task: 84058fc2-c8b0-4f87-beca-8902bbf58fc1</span>\n",
              "│   <span style=\"color: #c0c0c0; text-decoration-color: #c0c0c0\">   Assigned to: </span><span style=\"color: #008000; text-decoration-color: #008000\">Task Execution Planner</span>\n",
              "│   <span style=\"color: #c0c0c0; text-decoration-color: #c0c0c0\">   Status: </span><span style=\"color: #008000; text-decoration-color: #008000; font-weight: bold\">✅ Completed</span>\n",
              "│   └── <span style=\"color: #008000; text-decoration-color: #008000; font-weight: bold\">🤖 Agent: </span><span style=\"color: #008000; text-decoration-color: #008000\">Task Execution Planner</span>\n",
              "│       <span style=\"color: #c0c0c0; text-decoration-color: #c0c0c0\">    Status: </span><span style=\"color: #008000; text-decoration-color: #008000; font-weight: bold\">✅ Completed</span>\n",
              "└── <span style=\"color: #008000; text-decoration-color: #008000; font-weight: bold\">📋 Task: 556dce38-c923-4181-b312-10c0bb2094a1</span>\n",
              "    <span style=\"color: #c0c0c0; text-decoration-color: #c0c0c0\">   Assigned to: </span><span style=\"color: #008000; text-decoration-color: #008000\">Research Expert</span>\n",
              "    <span style=\"color: #c0c0c0; text-decoration-color: #c0c0c0\">   Status: </span><span style=\"color: #008000; text-decoration-color: #008000; font-weight: bold\">✅ Completed</span>\n",
              "    └── <span style=\"color: #008000; text-decoration-color: #008000; font-weight: bold\">🤖 Agent: </span><span style=\"color: #008000; text-decoration-color: #008000\">Research Expert</span>\n",
              "        <span style=\"color: #c0c0c0; text-decoration-color: #c0c0c0\">    Status: </span><span style=\"color: #008000; text-decoration-color: #008000; font-weight: bold\">✅ Completed</span>\n",
              "        └── <span style=\"color: #008000; text-decoration-color: #008000; font-weight: bold\">🔧 </span><span style=\"color: #008000; text-decoration-color: #008000\">Used vector_search (2)</span>\n",
              "</pre>\n"
            ],
            "text/plain": [
              "\u001b[1;36m🚀 Crew: \u001b[0m\u001b[1;36mcrew\u001b[0m\n",
              "├── \u001b[1;32m📋 Task: 84058fc2-c8b0-4f87-beca-8902bbf58fc1\u001b[0m\n",
              "│   \u001b[37m   Assigned to: \u001b[0m\u001b[32mTask Execution Planner\u001b[0m\n",
              "│   \u001b[37m   Status: \u001b[0m\u001b[1;32m✅ Completed\u001b[0m\n",
              "│   └── \u001b[1;32m🤖 Agent: \u001b[0m\u001b[32mTask Execution Planner\u001b[0m\n",
              "│       \u001b[37m    Status: \u001b[0m\u001b[1;32m✅ Completed\u001b[0m\n",
              "└── \u001b[1;32m📋 Task: 556dce38-c923-4181-b312-10c0bb2094a1\u001b[0m\n",
              "    \u001b[37m   Assigned to: \u001b[0m\u001b[32mResearch Expert\u001b[0m\n",
              "    \u001b[37m   Status: \u001b[0m\u001b[1;32m✅ Completed\u001b[0m\n",
              "    └── \u001b[1;32m🤖 Agent: \u001b[0m\u001b[32mResearch Expert\u001b[0m\n",
              "        \u001b[37m    Status: \u001b[0m\u001b[1;32m✅ Completed\u001b[0m\n",
              "        └── \u001b[1;32m🔧 \u001b[0m\u001b[32mUsed vector_search (2)\u001b[0m\n"
            ]
          },
          "metadata": {},
          "output_type": "display_data"
        },
        {
          "data": {
            "text/html": [
              "<pre style=\"white-space:pre;overflow-x:auto;line-height:normal;font-family:Menlo,'DejaVu Sans Mono',consolas,'Courier New',monospace\"><span style=\"color: #008000; text-decoration-color: #008000\">╭──────────────────────────────────────────────── Task Completion ────────────────────────────────────────────────╮</span>\n",
              "<span style=\"color: #008000; text-decoration-color: #008000\">│</span>                                                                                                                 <span style=\"color: #008000; text-decoration-color: #008000\">│</span>\n",
              "<span style=\"color: #008000; text-decoration-color: #008000\">│</span>  <span style=\"color: #008000; text-decoration-color: #008000; font-weight: bold\">Task Completed</span>                                                                                                 <span style=\"color: #008000; text-decoration-color: #008000\">│</span>\n",
              "<span style=\"color: #008000; text-decoration-color: #008000\">│</span>  <span style=\"color: #c0c0c0; text-decoration-color: #c0c0c0\">Name: </span><span style=\"color: #008000; text-decoration-color: #008000\">556dce38-c923-4181-b312-10c0bb2094a1</span>                                                                     <span style=\"color: #008000; text-decoration-color: #008000\">│</span>\n",
              "<span style=\"color: #008000; text-decoration-color: #008000\">│</span>  <span style=\"color: #c0c0c0; text-decoration-color: #c0c0c0\">Agent: </span><span style=\"color: #008000; text-decoration-color: #008000\">Research Expert</span>                                                                                         <span style=\"color: #008000; text-decoration-color: #008000\">│</span>\n",
              "<span style=\"color: #008000; text-decoration-color: #008000\">│</span>                                                                                                                 <span style=\"color: #008000; text-decoration-color: #008000\">│</span>\n",
              "<span style=\"color: #008000; text-decoration-color: #008000\">│</span>                                                                                                                 <span style=\"color: #008000; text-decoration-color: #008000\">│</span>\n",
              "<span style=\"color: #008000; text-decoration-color: #008000\">╰─────────────────────────────────────────────────────────────────────────────────────────────────────────────────╯</span>\n",
              "</pre>\n"
            ],
            "text/plain": [
              "\u001b[32m╭─\u001b[0m\u001b[32m───────────────────────────────────────────────\u001b[0m\u001b[32m Task Completion \u001b[0m\u001b[32m───────────────────────────────────────────────\u001b[0m\u001b[32m─╮\u001b[0m\n",
              "\u001b[32m│\u001b[0m                                                                                                                 \u001b[32m│\u001b[0m\n",
              "\u001b[32m│\u001b[0m  \u001b[1;32mTask Completed\u001b[0m                                                                                                 \u001b[32m│\u001b[0m\n",
              "\u001b[32m│\u001b[0m  \u001b[37mName: \u001b[0m\u001b[32m556dce38-c923-4181-b312-10c0bb2094a1\u001b[0m                                                                     \u001b[32m│\u001b[0m\n",
              "\u001b[32m│\u001b[0m  \u001b[37mAgent: \u001b[0m\u001b[32mResearch Expert\u001b[0m                                                                                         \u001b[32m│\u001b[0m\n",
              "\u001b[32m│\u001b[0m                                                                                                                 \u001b[32m│\u001b[0m\n",
              "\u001b[32m│\u001b[0m                                                                                                                 \u001b[32m│\u001b[0m\n",
              "\u001b[32m╰─────────────────────────────────────────────────────────────────────────────────────────────────────────────────╯\u001b[0m\n"
            ]
          },
          "metadata": {},
          "output_type": "display_data"
        },
        {
          "data": {
            "text/html": [
              "<pre style=\"white-space:pre;overflow-x:auto;line-height:normal;font-family:Menlo,'DejaVu Sans Mono',consolas,'Courier New',monospace\">\n",
              "</pre>\n"
            ],
            "text/plain": [
              "\n"
            ]
          },
          "metadata": {},
          "output_type": "display_data"
        },
        {
          "data": {
            "text/html": [
              "<pre style=\"white-space:pre;overflow-x:auto;line-height:normal;font-family:Menlo,'DejaVu Sans Mono',consolas,'Courier New',monospace\"><span style=\"color: #008080; text-decoration-color: #008080; font-weight: bold\">🚀 Crew: crew</span>\n",
              "├── <span style=\"color: #008000; text-decoration-color: #008000; font-weight: bold\">📋 Task: 84058fc2-c8b0-4f87-beca-8902bbf58fc1</span>\n",
              "│   <span style=\"color: #c0c0c0; text-decoration-color: #c0c0c0\">   Assigned to: </span><span style=\"color: #008000; text-decoration-color: #008000\">Task Execution Planner</span>\n",
              "│   <span style=\"color: #c0c0c0; text-decoration-color: #c0c0c0\">   Status: </span><span style=\"color: #008000; text-decoration-color: #008000; font-weight: bold\">✅ Completed</span>\n",
              "│   └── <span style=\"color: #008000; text-decoration-color: #008000; font-weight: bold\">🤖 Agent: </span><span style=\"color: #008000; text-decoration-color: #008000\">Task Execution Planner</span>\n",
              "│       <span style=\"color: #c0c0c0; text-decoration-color: #c0c0c0\">    Status: </span><span style=\"color: #008000; text-decoration-color: #008000; font-weight: bold\">✅ Completed</span>\n",
              "├── <span style=\"color: #008000; text-decoration-color: #008000; font-weight: bold\">📋 Task: 556dce38-c923-4181-b312-10c0bb2094a1</span>\n",
              "│   <span style=\"color: #c0c0c0; text-decoration-color: #c0c0c0\">   Assigned to: </span><span style=\"color: #008000; text-decoration-color: #008000\">Research Expert</span>\n",
              "│   <span style=\"color: #c0c0c0; text-decoration-color: #c0c0c0\">   Status: </span><span style=\"color: #008000; text-decoration-color: #008000; font-weight: bold\">✅ Completed</span>\n",
              "│   └── <span style=\"color: #008000; text-decoration-color: #008000; font-weight: bold\">🤖 Agent: </span><span style=\"color: #008000; text-decoration-color: #008000\">Research Expert</span>\n",
              "│       <span style=\"color: #c0c0c0; text-decoration-color: #c0c0c0\">    Status: </span><span style=\"color: #008000; text-decoration-color: #008000; font-weight: bold\">✅ Completed</span>\n",
              "│       └── <span style=\"color: #008000; text-decoration-color: #008000; font-weight: bold\">🔧 </span><span style=\"color: #008000; text-decoration-color: #008000\">Used vector_search (2)</span>\n",
              "└── <span style=\"color: #808000; text-decoration-color: #808000; font-weight: bold\">📋 Task: 67104c7e-704b-4df8-8ff1-fd0e3f29501b</span>\n",
              "    <span style=\"color: #c0c0c0; text-decoration-color: #c0c0c0\">   Status: </span><span style=\"color: #bfbf7f; text-decoration-color: #bfbf7f\">Executing Task...</span>\n",
              "</pre>\n"
            ],
            "text/plain": [
              "\u001b[1;36m🚀 Crew: \u001b[0m\u001b[1;36mcrew\u001b[0m\n",
              "├── \u001b[1;32m📋 Task: 84058fc2-c8b0-4f87-beca-8902bbf58fc1\u001b[0m\n",
              "│   \u001b[37m   Assigned to: \u001b[0m\u001b[32mTask Execution Planner\u001b[0m\n",
              "│   \u001b[37m   Status: \u001b[0m\u001b[1;32m✅ Completed\u001b[0m\n",
              "│   └── \u001b[1;32m🤖 Agent: \u001b[0m\u001b[32mTask Execution Planner\u001b[0m\n",
              "│       \u001b[37m    Status: \u001b[0m\u001b[1;32m✅ Completed\u001b[0m\n",
              "├── \u001b[1;32m📋 Task: 556dce38-c923-4181-b312-10c0bb2094a1\u001b[0m\n",
              "│   \u001b[37m   Assigned to: \u001b[0m\u001b[32mResearch Expert\u001b[0m\n",
              "│   \u001b[37m   Status: \u001b[0m\u001b[1;32m✅ Completed\u001b[0m\n",
              "│   └── \u001b[1;32m🤖 Agent: \u001b[0m\u001b[32mResearch Expert\u001b[0m\n",
              "│       \u001b[37m    Status: \u001b[0m\u001b[1;32m✅ Completed\u001b[0m\n",
              "│       └── \u001b[1;32m🔧 \u001b[0m\u001b[32mUsed vector_search (2)\u001b[0m\n",
              "└── \u001b[1;33m📋 Task: 67104c7e-704b-4df8-8ff1-fd0e3f29501b\u001b[0m\n",
              "    \u001b[37m   Status: \u001b[0m\u001b[2;33mExecuting Task...\u001b[0m\n"
            ]
          },
          "metadata": {},
          "output_type": "display_data"
        },
        {
          "data": {
            "text/html": [
              "<pre style=\"white-space:pre;overflow-x:auto;line-height:normal;font-family:Menlo,'DejaVu Sans Mono',consolas,'Courier New',monospace\">\n",
              "</pre>\n"
            ],
            "text/plain": [
              "\n"
            ]
          },
          "metadata": {},
          "output_type": "display_data"
        },
        {
          "data": {
            "text/html": [
              "<pre style=\"white-space:pre;overflow-x:auto;line-height:normal;font-family:Menlo,'DejaVu Sans Mono',consolas,'Courier New',monospace\"><span style=\"color: #008080; text-decoration-color: #008080; font-weight: bold\">🚀 Crew: crew</span>\n",
              "├── <span style=\"color: #008000; text-decoration-color: #008000; font-weight: bold\">📋 Task: 84058fc2-c8b0-4f87-beca-8902bbf58fc1</span>\n",
              "│   <span style=\"color: #c0c0c0; text-decoration-color: #c0c0c0\">   Assigned to: </span><span style=\"color: #008000; text-decoration-color: #008000\">Task Execution Planner</span>\n",
              "│   <span style=\"color: #c0c0c0; text-decoration-color: #c0c0c0\">   Status: </span><span style=\"color: #008000; text-decoration-color: #008000; font-weight: bold\">✅ Completed</span>\n",
              "│   └── <span style=\"color: #008000; text-decoration-color: #008000; font-weight: bold\">🤖 Agent: </span><span style=\"color: #008000; text-decoration-color: #008000\">Task Execution Planner</span>\n",
              "│       <span style=\"color: #c0c0c0; text-decoration-color: #c0c0c0\">    Status: </span><span style=\"color: #008000; text-decoration-color: #008000; font-weight: bold\">✅ Completed</span>\n",
              "├── <span style=\"color: #008000; text-decoration-color: #008000; font-weight: bold\">📋 Task: 556dce38-c923-4181-b312-10c0bb2094a1</span>\n",
              "│   <span style=\"color: #c0c0c0; text-decoration-color: #c0c0c0\">   Assigned to: </span><span style=\"color: #008000; text-decoration-color: #008000\">Research Expert</span>\n",
              "│   <span style=\"color: #c0c0c0; text-decoration-color: #c0c0c0\">   Status: </span><span style=\"color: #008000; text-decoration-color: #008000; font-weight: bold\">✅ Completed</span>\n",
              "│   └── <span style=\"color: #008000; text-decoration-color: #008000; font-weight: bold\">🤖 Agent: </span><span style=\"color: #008000; text-decoration-color: #008000\">Research Expert</span>\n",
              "│       <span style=\"color: #c0c0c0; text-decoration-color: #c0c0c0\">    Status: </span><span style=\"color: #008000; text-decoration-color: #008000; font-weight: bold\">✅ Completed</span>\n",
              "│       └── <span style=\"color: #008000; text-decoration-color: #008000; font-weight: bold\">🔧 </span><span style=\"color: #008000; text-decoration-color: #008000\">Used vector_search (2)</span>\n",
              "└── <span style=\"color: #808000; text-decoration-color: #808000; font-weight: bold\">📋 Task: 67104c7e-704b-4df8-8ff1-fd0e3f29501b</span>\n",
              "    <span style=\"color: #c0c0c0; text-decoration-color: #c0c0c0\">   Status: </span><span style=\"color: #bfbf7f; text-decoration-color: #bfbf7f\">Executing Task...</span>\n",
              "    └── <span style=\"color: #008000; text-decoration-color: #008000; font-weight: bold\">🤖 Agent: </span><span style=\"color: #008000; text-decoration-color: #008000\">Technical Writer</span>\n",
              "        <span style=\"color: #c0c0c0; text-decoration-color: #c0c0c0\">    Status: </span><span style=\"color: #008000; text-decoration-color: #008000; font-weight: bold\">In Progress</span>\n",
              "</pre>\n"
            ],
            "text/plain": [
              "\u001b[1;36m🚀 Crew: \u001b[0m\u001b[1;36mcrew\u001b[0m\n",
              "├── \u001b[1;32m📋 Task: 84058fc2-c8b0-4f87-beca-8902bbf58fc1\u001b[0m\n",
              "│   \u001b[37m   Assigned to: \u001b[0m\u001b[32mTask Execution Planner\u001b[0m\n",
              "│   \u001b[37m   Status: \u001b[0m\u001b[1;32m✅ Completed\u001b[0m\n",
              "│   └── \u001b[1;32m🤖 Agent: \u001b[0m\u001b[32mTask Execution Planner\u001b[0m\n",
              "│       \u001b[37m    Status: \u001b[0m\u001b[1;32m✅ Completed\u001b[0m\n",
              "├── \u001b[1;32m📋 Task: 556dce38-c923-4181-b312-10c0bb2094a1\u001b[0m\n",
              "│   \u001b[37m   Assigned to: \u001b[0m\u001b[32mResearch Expert\u001b[0m\n",
              "│   \u001b[37m   Status: \u001b[0m\u001b[1;32m✅ Completed\u001b[0m\n",
              "│   └── \u001b[1;32m🤖 Agent: \u001b[0m\u001b[32mResearch Expert\u001b[0m\n",
              "│       \u001b[37m    Status: \u001b[0m\u001b[1;32m✅ Completed\u001b[0m\n",
              "│       └── \u001b[1;32m🔧 \u001b[0m\u001b[32mUsed vector_search (2)\u001b[0m\n",
              "└── \u001b[1;33m📋 Task: 67104c7e-704b-4df8-8ff1-fd0e3f29501b\u001b[0m\n",
              "    \u001b[37m   Status: \u001b[0m\u001b[2;33mExecuting Task...\u001b[0m\n",
              "    └── \u001b[1;32m🤖 Agent: \u001b[0m\u001b[32mTechnical Writer\u001b[0m\n",
              "        \u001b[37m    Status: \u001b[0m\u001b[1;32mIn Progress\u001b[0m\n"
            ]
          },
          "metadata": {},
          "output_type": "display_data"
        },
        {
          "data": {
            "text/html": [
              "<pre style=\"white-space:pre;overflow-x:auto;line-height:normal;font-family:Menlo,'DejaVu Sans Mono',consolas,'Courier New',monospace\">\n",
              "</pre>\n"
            ],
            "text/plain": [
              "\n"
            ]
          },
          "metadata": {},
          "output_type": "display_data"
        },
        {
          "name": "stdout",
          "output_type": "stream",
          "text": [
            "\u001b[1m\u001b[95m# Agent:\u001b[00m \u001b[1m\u001b[92mTechnical Writer\u001b[00m\n",
            "\u001b[95m## Task:\u001b[00m \u001b[92mCreate a comprehensive and well-structured response1. The Technical Writer will receive the detailed analysis produced by the Research Expert as a foundation for crafting a well-structured response. 2. The writer will begin by reviewing the material to ensure clarity and accuracy, marking main points and key findings that are essential for the structured response. 3. The writer will outline a draft structure, including an introduction to the FA Cup third round, sections for each of the highlighted fixtures (Manchester United vs Arsenal, Tamworth vs Tottenham), and any other notable matches. 4. In each section, the writer will incorporate the relevant insights, ensuring each fixture's importance and details are accentuated. 5. The writer will ensure logical flow and coherence in the response, linking each section effectively. 6. Finally, the response will be thoroughly proofread to correct any grammatical errors, ensuring the final document is polished, clear, and comprehensive, ready for delivery.\u001b[00m\n"
          ]
        },
        {
          "data": {
            "text/html": [
              "<pre style=\"white-space:pre;overflow-x:auto;line-height:normal;font-family:Menlo,'DejaVu Sans Mono',consolas,'Courier New',monospace\"><span style=\"color: #008080; text-decoration-color: #008080; font-weight: bold\">🚀 Crew: crew</span>\n",
              "├── <span style=\"color: #008000; text-decoration-color: #008000; font-weight: bold\">📋 Task: 84058fc2-c8b0-4f87-beca-8902bbf58fc1</span>\n",
              "│   <span style=\"color: #c0c0c0; text-decoration-color: #c0c0c0\">   Assigned to: </span><span style=\"color: #008000; text-decoration-color: #008000\">Task Execution Planner</span>\n",
              "│   <span style=\"color: #c0c0c0; text-decoration-color: #c0c0c0\">   Status: </span><span style=\"color: #008000; text-decoration-color: #008000; font-weight: bold\">✅ Completed</span>\n",
              "│   └── <span style=\"color: #008000; text-decoration-color: #008000; font-weight: bold\">🤖 Agent: </span><span style=\"color: #008000; text-decoration-color: #008000\">Task Execution Planner</span>\n",
              "│       <span style=\"color: #c0c0c0; text-decoration-color: #c0c0c0\">    Status: </span><span style=\"color: #008000; text-decoration-color: #008000; font-weight: bold\">✅ Completed</span>\n",
              "├── <span style=\"color: #008000; text-decoration-color: #008000; font-weight: bold\">📋 Task: 556dce38-c923-4181-b312-10c0bb2094a1</span>\n",
              "│   <span style=\"color: #c0c0c0; text-decoration-color: #c0c0c0\">   Assigned to: </span><span style=\"color: #008000; text-decoration-color: #008000\">Research Expert</span>\n",
              "│   <span style=\"color: #c0c0c0; text-decoration-color: #c0c0c0\">   Status: </span><span style=\"color: #008000; text-decoration-color: #008000; font-weight: bold\">✅ Completed</span>\n",
              "│   └── <span style=\"color: #008000; text-decoration-color: #008000; font-weight: bold\">🤖 Agent: </span><span style=\"color: #008000; text-decoration-color: #008000\">Research Expert</span>\n",
              "│       <span style=\"color: #c0c0c0; text-decoration-color: #c0c0c0\">    Status: </span><span style=\"color: #008000; text-decoration-color: #008000; font-weight: bold\">✅ Completed</span>\n",
              "│       └── <span style=\"color: #008000; text-decoration-color: #008000; font-weight: bold\">🔧 </span><span style=\"color: #008000; text-decoration-color: #008000\">Used vector_search (2)</span>\n",
              "└── <span style=\"color: #808000; text-decoration-color: #808000; font-weight: bold\">📋 Task: 67104c7e-704b-4df8-8ff1-fd0e3f29501b</span>\n",
              "    <span style=\"color: #c0c0c0; text-decoration-color: #c0c0c0\">   Status: </span><span style=\"color: #bfbf7f; text-decoration-color: #bfbf7f\">Executing Task...</span>\n",
              "    └── <span style=\"color: #008000; text-decoration-color: #008000; font-weight: bold\">🤖 Agent: </span><span style=\"color: #008000; text-decoration-color: #008000\">Technical Writer</span>\n",
              "        <span style=\"color: #c0c0c0; text-decoration-color: #c0c0c0\">    Status: </span><span style=\"color: #008000; text-decoration-color: #008000; font-weight: bold\">In Progress</span>\n",
              "        └── <span style=\"color: #000080; text-decoration-color: #000080; font-weight: bold\">🧠 </span><span style=\"color: #000080; text-decoration-color: #000080\">Thinking...</span>\n",
              "</pre>\n"
            ],
            "text/plain": [
              "\u001b[1;36m🚀 Crew: \u001b[0m\u001b[1;36mcrew\u001b[0m\n",
              "├── \u001b[1;32m📋 Task: 84058fc2-c8b0-4f87-beca-8902bbf58fc1\u001b[0m\n",
              "│   \u001b[37m   Assigned to: \u001b[0m\u001b[32mTask Execution Planner\u001b[0m\n",
              "│   \u001b[37m   Status: \u001b[0m\u001b[1;32m✅ Completed\u001b[0m\n",
              "│   └── \u001b[1;32m🤖 Agent: \u001b[0m\u001b[32mTask Execution Planner\u001b[0m\n",
              "│       \u001b[37m    Status: \u001b[0m\u001b[1;32m✅ Completed\u001b[0m\n",
              "├── \u001b[1;32m📋 Task: 556dce38-c923-4181-b312-10c0bb2094a1\u001b[0m\n",
              "│   \u001b[37m   Assigned to: \u001b[0m\u001b[32mResearch Expert\u001b[0m\n",
              "│   \u001b[37m   Status: \u001b[0m\u001b[1;32m✅ Completed\u001b[0m\n",
              "│   └── \u001b[1;32m🤖 Agent: \u001b[0m\u001b[32mResearch Expert\u001b[0m\n",
              "│       \u001b[37m    Status: \u001b[0m\u001b[1;32m✅ Completed\u001b[0m\n",
              "│       └── \u001b[1;32m🔧 \u001b[0m\u001b[32mUsed vector_search (2)\u001b[0m\n",
              "└── \u001b[1;33m📋 Task: 67104c7e-704b-4df8-8ff1-fd0e3f29501b\u001b[0m\n",
              "    \u001b[37m   Status: \u001b[0m\u001b[2;33mExecuting Task...\u001b[0m\n",
              "    └── \u001b[1;32m🤖 Agent: \u001b[0m\u001b[32mTechnical Writer\u001b[0m\n",
              "        \u001b[37m    Status: \u001b[0m\u001b[1;32mIn Progress\u001b[0m\n",
              "        └── \u001b[1;34m🧠 \u001b[0m\u001b[34mThinking...\u001b[0m\n"
            ]
          },
          "metadata": {},
          "output_type": "display_data"
        },
        {
          "data": {
            "text/html": [
              "<pre style=\"white-space:pre;overflow-x:auto;line-height:normal;font-family:Menlo,'DejaVu Sans Mono',consolas,'Courier New',monospace\">\n",
              "</pre>\n"
            ],
            "text/plain": [
              "\n"
            ]
          },
          "metadata": {},
          "output_type": "display_data"
        },
        {
          "data": {
            "text/html": [
              "<pre style=\"white-space:pre;overflow-x:auto;line-height:normal;font-family:Menlo,'DejaVu Sans Mono',consolas,'Courier New',monospace\"><span style=\"color: #008080; text-decoration-color: #008080; font-weight: bold\">🚀 Crew: crew</span>\n",
              "├── <span style=\"color: #008000; text-decoration-color: #008000; font-weight: bold\">📋 Task: 84058fc2-c8b0-4f87-beca-8902bbf58fc1</span>\n",
              "│   <span style=\"color: #c0c0c0; text-decoration-color: #c0c0c0\">   Assigned to: </span><span style=\"color: #008000; text-decoration-color: #008000\">Task Execution Planner</span>\n",
              "│   <span style=\"color: #c0c0c0; text-decoration-color: #c0c0c0\">   Status: </span><span style=\"color: #008000; text-decoration-color: #008000; font-weight: bold\">✅ Completed</span>\n",
              "│   └── <span style=\"color: #008000; text-decoration-color: #008000; font-weight: bold\">🤖 Agent: </span><span style=\"color: #008000; text-decoration-color: #008000\">Task Execution Planner</span>\n",
              "│       <span style=\"color: #c0c0c0; text-decoration-color: #c0c0c0\">    Status: </span><span style=\"color: #008000; text-decoration-color: #008000; font-weight: bold\">✅ Completed</span>\n",
              "├── <span style=\"color: #008000; text-decoration-color: #008000; font-weight: bold\">📋 Task: 556dce38-c923-4181-b312-10c0bb2094a1</span>\n",
              "│   <span style=\"color: #c0c0c0; text-decoration-color: #c0c0c0\">   Assigned to: </span><span style=\"color: #008000; text-decoration-color: #008000\">Research Expert</span>\n",
              "│   <span style=\"color: #c0c0c0; text-decoration-color: #c0c0c0\">   Status: </span><span style=\"color: #008000; text-decoration-color: #008000; font-weight: bold\">✅ Completed</span>\n",
              "│   └── <span style=\"color: #008000; text-decoration-color: #008000; font-weight: bold\">🤖 Agent: </span><span style=\"color: #008000; text-decoration-color: #008000\">Research Expert</span>\n",
              "│       <span style=\"color: #c0c0c0; text-decoration-color: #c0c0c0\">    Status: </span><span style=\"color: #008000; text-decoration-color: #008000; font-weight: bold\">✅ Completed</span>\n",
              "│       └── <span style=\"color: #008000; text-decoration-color: #008000; font-weight: bold\">🔧 </span><span style=\"color: #008000; text-decoration-color: #008000\">Used vector_search (2)</span>\n",
              "└── <span style=\"color: #808000; text-decoration-color: #808000; font-weight: bold\">📋 Task: 67104c7e-704b-4df8-8ff1-fd0e3f29501b</span>\n",
              "    <span style=\"color: #c0c0c0; text-decoration-color: #c0c0c0\">   Status: </span><span style=\"color: #bfbf7f; text-decoration-color: #bfbf7f\">Executing Task...</span>\n",
              "    └── <span style=\"color: #008000; text-decoration-color: #008000; font-weight: bold\">🤖 Agent: </span><span style=\"color: #008000; text-decoration-color: #008000\">Technical Writer</span>\n",
              "        <span style=\"color: #c0c0c0; text-decoration-color: #c0c0c0\">    Status: </span><span style=\"color: #008000; text-decoration-color: #008000; font-weight: bold\">In Progress</span>\n",
              "</pre>\n"
            ],
            "text/plain": [
              "\u001b[1;36m🚀 Crew: \u001b[0m\u001b[1;36mcrew\u001b[0m\n",
              "├── \u001b[1;32m📋 Task: 84058fc2-c8b0-4f87-beca-8902bbf58fc1\u001b[0m\n",
              "│   \u001b[37m   Assigned to: \u001b[0m\u001b[32mTask Execution Planner\u001b[0m\n",
              "│   \u001b[37m   Status: \u001b[0m\u001b[1;32m✅ Completed\u001b[0m\n",
              "│   └── \u001b[1;32m🤖 Agent: \u001b[0m\u001b[32mTask Execution Planner\u001b[0m\n",
              "│       \u001b[37m    Status: \u001b[0m\u001b[1;32m✅ Completed\u001b[0m\n",
              "├── \u001b[1;32m📋 Task: 556dce38-c923-4181-b312-10c0bb2094a1\u001b[0m\n",
              "│   \u001b[37m   Assigned to: \u001b[0m\u001b[32mResearch Expert\u001b[0m\n",
              "│   \u001b[37m   Status: \u001b[0m\u001b[1;32m✅ Completed\u001b[0m\n",
              "│   └── \u001b[1;32m🤖 Agent: \u001b[0m\u001b[32mResearch Expert\u001b[0m\n",
              "│       \u001b[37m    Status: \u001b[0m\u001b[1;32m✅ Completed\u001b[0m\n",
              "│       └── \u001b[1;32m🔧 \u001b[0m\u001b[32mUsed vector_search (2)\u001b[0m\n",
              "└── \u001b[1;33m📋 Task: 67104c7e-704b-4df8-8ff1-fd0e3f29501b\u001b[0m\n",
              "    \u001b[37m   Status: \u001b[0m\u001b[2;33mExecuting Task...\u001b[0m\n",
              "    └── \u001b[1;32m🤖 Agent: \u001b[0m\u001b[32mTechnical Writer\u001b[0m\n",
              "        \u001b[37m    Status: \u001b[0m\u001b[1;32mIn Progress\u001b[0m\n"
            ]
          },
          "metadata": {},
          "output_type": "display_data"
        },
        {
          "data": {
            "text/html": [
              "<pre style=\"white-space:pre;overflow-x:auto;line-height:normal;font-family:Menlo,'DejaVu Sans Mono',consolas,'Courier New',monospace\">\n",
              "</pre>\n"
            ],
            "text/plain": [
              "\n"
            ]
          },
          "metadata": {},
          "output_type": "display_data"
        },
        {
          "name": "stdout",
          "output_type": "stream",
          "text": [
            "\n",
            "\n",
            "\u001b[1m\u001b[95m# Agent:\u001b[00m \u001b[1m\u001b[92mTechnical Writer\u001b[00m\n",
            "\u001b[95m## Final Answer:\u001b[00m \u001b[92m\n",
            "The FA Cup third round draw has produced some thrilling matchups, showcasing the competition's unique ability to pit teams of varying stature against each other. Two fixtures, in particular, stand out: Manchester United vs Arsenal and Tamworth vs Tottenham. These matches promise to deliver exciting encounters, rich in history and laden with potential for upsets.\n",
            "\n",
            "**Introduction to the FA Cup Third Round**\n",
            "\n",
            "The FA Cup, renowned for its capacity to deliver surprising results, has once again lived up to its reputation with the third-round draw. This stage of the competition is often marked by David vs Goliath battles, where smaller clubs can make headlines by upsetting their more illustrious opponents. The draw has set the stage for several compelling matches, with some of the biggest names in English football taking on lesser-known opponents.\n",
            "\n",
            "**Manchester United vs Arsenal**\n",
            "\n",
            "One of the most anticipated fixtures of the third round is the encounter between Manchester United and Arsenal. Both teams boast a rich history in the FA Cup, with Manchester United having won the trophy a record 12 times and Arsenal lifting it 13 times. The match promises to be an enthralling contest, given the recent form of both teams. Manchester United enters the match on the back of three consecutive league victories, while Arsenal has been struggling to find consistency in their performances.\n",
            "\n",
            "The historical context of this match adds an extra layer of interest, with both teams aware of the significance of progressing to the next round. Manchester United and Arsenal have a storied past in the FA Cup, having contested several memorable matches over the years. The encounter is expected to be a closely contested affair, with the potential for late drama and surprises.\n",
            "\n",
            "**Tamworth vs Tottenham**\n",
            "\n",
            "Another intriguing matchup is the tie between Tamworth and Tottenham. Tamworth, a non-league side, faces the daunting task of taking on a Premier League team. However, the FA Cup is known for its capacity to deliver surprises, and Tamworth will be looking to make the most of their day out against Tottenham.\n",
            "\n",
            "Tottenham, an eight-time FA Cup winner, last lifted the trophy in 1991. The team will be expected to win comfortably, but the FA Cup's history of upsets serves as a warning to any team taking their opponents lightly. Tamworth, meanwhile, will be seeking to make history by becoming the first non-league side to defeat a Premier League team in the third round.\n",
            "\n",
            "**Other Notable Fixtures**\n",
            "\n",
            "In addition to these standout matches, other fixtures worth mentioning include Liverpool vs Everton, Chelsea vs Morecambe, and Manchester City vs Swindon Town. Each of these matches has the potential to deliver exciting encounters, with the possibility of upsets on the cards.\n",
            "\n",
            "Liverpool and Everton, two teams from the same city, will contest a local derby that promises to be a heated affair. Chelsea, meanwhile, takes on Morecambe, a team from the lower divisions. Manchester City faces Swindon Town, a fixture that could potentially produce an upset.\n",
            "\n",
            "**Conclusion**\n",
            "\n",
            "The FA Cup third round draw has set the stage for an exciting series of matches, filled with potential upsets and surprises. With teams of varying stature locked in combat, the competition's unique charm is on full display. As the matches unfold, it will be intriguing to see which teams emerge victorious and which lower-division teams can make a name for themselves by pulling off a surprise result.\u001b[00m\n",
            "\n",
            "\n"
          ]
        },
        {
          "data": {
            "text/html": [
              "<pre style=\"white-space:pre;overflow-x:auto;line-height:normal;font-family:Menlo,'DejaVu Sans Mono',consolas,'Courier New',monospace\"><span style=\"color: #008080; text-decoration-color: #008080; font-weight: bold\">🚀 Crew: crew</span>\n",
              "├── <span style=\"color: #008000; text-decoration-color: #008000; font-weight: bold\">📋 Task: 84058fc2-c8b0-4f87-beca-8902bbf58fc1</span>\n",
              "│   <span style=\"color: #c0c0c0; text-decoration-color: #c0c0c0\">   Assigned to: </span><span style=\"color: #008000; text-decoration-color: #008000\">Task Execution Planner</span>\n",
              "│   <span style=\"color: #c0c0c0; text-decoration-color: #c0c0c0\">   Status: </span><span style=\"color: #008000; text-decoration-color: #008000; font-weight: bold\">✅ Completed</span>\n",
              "│   └── <span style=\"color: #008000; text-decoration-color: #008000; font-weight: bold\">🤖 Agent: </span><span style=\"color: #008000; text-decoration-color: #008000\">Task Execution Planner</span>\n",
              "│       <span style=\"color: #c0c0c0; text-decoration-color: #c0c0c0\">    Status: </span><span style=\"color: #008000; text-decoration-color: #008000; font-weight: bold\">✅ Completed</span>\n",
              "├── <span style=\"color: #008000; text-decoration-color: #008000; font-weight: bold\">📋 Task: 556dce38-c923-4181-b312-10c0bb2094a1</span>\n",
              "│   <span style=\"color: #c0c0c0; text-decoration-color: #c0c0c0\">   Assigned to: </span><span style=\"color: #008000; text-decoration-color: #008000\">Research Expert</span>\n",
              "│   <span style=\"color: #c0c0c0; text-decoration-color: #c0c0c0\">   Status: </span><span style=\"color: #008000; text-decoration-color: #008000; font-weight: bold\">✅ Completed</span>\n",
              "│   └── <span style=\"color: #008000; text-decoration-color: #008000; font-weight: bold\">🤖 Agent: </span><span style=\"color: #008000; text-decoration-color: #008000\">Research Expert</span>\n",
              "│       <span style=\"color: #c0c0c0; text-decoration-color: #c0c0c0\">    Status: </span><span style=\"color: #008000; text-decoration-color: #008000; font-weight: bold\">✅ Completed</span>\n",
              "│       └── <span style=\"color: #008000; text-decoration-color: #008000; font-weight: bold\">🔧 </span><span style=\"color: #008000; text-decoration-color: #008000\">Used vector_search (2)</span>\n",
              "└── <span style=\"color: #808000; text-decoration-color: #808000; font-weight: bold\">📋 Task: 67104c7e-704b-4df8-8ff1-fd0e3f29501b</span>\n",
              "    <span style=\"color: #c0c0c0; text-decoration-color: #c0c0c0\">   Status: </span><span style=\"color: #bfbf7f; text-decoration-color: #bfbf7f\">Executing Task...</span>\n",
              "    └── <span style=\"color: #008000; text-decoration-color: #008000; font-weight: bold\">🤖 Agent: </span><span style=\"color: #008000; text-decoration-color: #008000\">Technical Writer</span>\n",
              "        <span style=\"color: #c0c0c0; text-decoration-color: #c0c0c0\">    Status: </span><span style=\"color: #008000; text-decoration-color: #008000; font-weight: bold\">✅ Completed</span>\n",
              "</pre>\n"
            ],
            "text/plain": [
              "\u001b[1;36m🚀 Crew: \u001b[0m\u001b[1;36mcrew\u001b[0m\n",
              "├── \u001b[1;32m📋 Task: 84058fc2-c8b0-4f87-beca-8902bbf58fc1\u001b[0m\n",
              "│   \u001b[37m   Assigned to: \u001b[0m\u001b[32mTask Execution Planner\u001b[0m\n",
              "│   \u001b[37m   Status: \u001b[0m\u001b[1;32m✅ Completed\u001b[0m\n",
              "│   └── \u001b[1;32m🤖 Agent: \u001b[0m\u001b[32mTask Execution Planner\u001b[0m\n",
              "│       \u001b[37m    Status: \u001b[0m\u001b[1;32m✅ Completed\u001b[0m\n",
              "├── \u001b[1;32m📋 Task: 556dce38-c923-4181-b312-10c0bb2094a1\u001b[0m\n",
              "│   \u001b[37m   Assigned to: \u001b[0m\u001b[32mResearch Expert\u001b[0m\n",
              "│   \u001b[37m   Status: \u001b[0m\u001b[1;32m✅ Completed\u001b[0m\n",
              "│   └── \u001b[1;32m🤖 Agent: \u001b[0m\u001b[32mResearch Expert\u001b[0m\n",
              "│       \u001b[37m    Status: \u001b[0m\u001b[1;32m✅ Completed\u001b[0m\n",
              "│       └── \u001b[1;32m🔧 \u001b[0m\u001b[32mUsed vector_search (2)\u001b[0m\n",
              "└── \u001b[1;33m📋 Task: 67104c7e-704b-4df8-8ff1-fd0e3f29501b\u001b[0m\n",
              "    \u001b[37m   Status: \u001b[0m\u001b[2;33mExecuting Task...\u001b[0m\n",
              "    └── \u001b[1;32m🤖 Agent: \u001b[0m\u001b[32mTechnical Writer\u001b[0m\n",
              "        \u001b[37m    Status: \u001b[0m\u001b[1;32m✅ Completed\u001b[0m\n"
            ]
          },
          "metadata": {},
          "output_type": "display_data"
        },
        {
          "data": {
            "text/html": [
              "<pre style=\"white-space:pre;overflow-x:auto;line-height:normal;font-family:Menlo,'DejaVu Sans Mono',consolas,'Courier New',monospace\">\n",
              "</pre>\n"
            ],
            "text/plain": [
              "\n"
            ]
          },
          "metadata": {},
          "output_type": "display_data"
        },
        {
          "data": {
            "text/html": [
              "<pre style=\"white-space:pre;overflow-x:auto;line-height:normal;font-family:Menlo,'DejaVu Sans Mono',consolas,'Courier New',monospace\"><span style=\"color: #008080; text-decoration-color: #008080; font-weight: bold\">🚀 Crew: crew</span>\n",
              "├── <span style=\"color: #008000; text-decoration-color: #008000; font-weight: bold\">📋 Task: 84058fc2-c8b0-4f87-beca-8902bbf58fc1</span>\n",
              "│   <span style=\"color: #c0c0c0; text-decoration-color: #c0c0c0\">   Assigned to: </span><span style=\"color: #008000; text-decoration-color: #008000\">Task Execution Planner</span>\n",
              "│   <span style=\"color: #c0c0c0; text-decoration-color: #c0c0c0\">   Status: </span><span style=\"color: #008000; text-decoration-color: #008000; font-weight: bold\">✅ Completed</span>\n",
              "│   └── <span style=\"color: #008000; text-decoration-color: #008000; font-weight: bold\">🤖 Agent: </span><span style=\"color: #008000; text-decoration-color: #008000\">Task Execution Planner</span>\n",
              "│       <span style=\"color: #c0c0c0; text-decoration-color: #c0c0c0\">    Status: </span><span style=\"color: #008000; text-decoration-color: #008000; font-weight: bold\">✅ Completed</span>\n",
              "├── <span style=\"color: #008000; text-decoration-color: #008000; font-weight: bold\">📋 Task: 556dce38-c923-4181-b312-10c0bb2094a1</span>\n",
              "│   <span style=\"color: #c0c0c0; text-decoration-color: #c0c0c0\">   Assigned to: </span><span style=\"color: #008000; text-decoration-color: #008000\">Research Expert</span>\n",
              "│   <span style=\"color: #c0c0c0; text-decoration-color: #c0c0c0\">   Status: </span><span style=\"color: #008000; text-decoration-color: #008000; font-weight: bold\">✅ Completed</span>\n",
              "│   └── <span style=\"color: #008000; text-decoration-color: #008000; font-weight: bold\">🤖 Agent: </span><span style=\"color: #008000; text-decoration-color: #008000\">Research Expert</span>\n",
              "│       <span style=\"color: #c0c0c0; text-decoration-color: #c0c0c0\">    Status: </span><span style=\"color: #008000; text-decoration-color: #008000; font-weight: bold\">✅ Completed</span>\n",
              "│       └── <span style=\"color: #008000; text-decoration-color: #008000; font-weight: bold\">🔧 </span><span style=\"color: #008000; text-decoration-color: #008000\">Used vector_search (2)</span>\n",
              "└── <span style=\"color: #008000; text-decoration-color: #008000; font-weight: bold\">📋 Task: 67104c7e-704b-4df8-8ff1-fd0e3f29501b</span>\n",
              "    <span style=\"color: #c0c0c0; text-decoration-color: #c0c0c0\">   Assigned to: </span><span style=\"color: #008000; text-decoration-color: #008000\">Technical Writer</span>\n",
              "    <span style=\"color: #c0c0c0; text-decoration-color: #c0c0c0\">   Status: </span><span style=\"color: #008000; text-decoration-color: #008000; font-weight: bold\">✅ Completed</span>\n",
              "    └── <span style=\"color: #008000; text-decoration-color: #008000; font-weight: bold\">🤖 Agent: </span><span style=\"color: #008000; text-decoration-color: #008000\">Technical Writer</span>\n",
              "        <span style=\"color: #c0c0c0; text-decoration-color: #c0c0c0\">    Status: </span><span style=\"color: #008000; text-decoration-color: #008000; font-weight: bold\">✅ Completed</span>\n",
              "</pre>\n"
            ],
            "text/plain": [
              "\u001b[1;36m🚀 Crew: \u001b[0m\u001b[1;36mcrew\u001b[0m\n",
              "├── \u001b[1;32m📋 Task: 84058fc2-c8b0-4f87-beca-8902bbf58fc1\u001b[0m\n",
              "│   \u001b[37m   Assigned to: \u001b[0m\u001b[32mTask Execution Planner\u001b[0m\n",
              "│   \u001b[37m   Status: \u001b[0m\u001b[1;32m✅ Completed\u001b[0m\n",
              "│   └── \u001b[1;32m🤖 Agent: \u001b[0m\u001b[32mTask Execution Planner\u001b[0m\n",
              "│       \u001b[37m    Status: \u001b[0m\u001b[1;32m✅ Completed\u001b[0m\n",
              "├── \u001b[1;32m📋 Task: 556dce38-c923-4181-b312-10c0bb2094a1\u001b[0m\n",
              "│   \u001b[37m   Assigned to: \u001b[0m\u001b[32mResearch Expert\u001b[0m\n",
              "│   \u001b[37m   Status: \u001b[0m\u001b[1;32m✅ Completed\u001b[0m\n",
              "│   └── \u001b[1;32m🤖 Agent: \u001b[0m\u001b[32mResearch Expert\u001b[0m\n",
              "│       \u001b[37m    Status: \u001b[0m\u001b[1;32m✅ Completed\u001b[0m\n",
              "│       └── \u001b[1;32m🔧 \u001b[0m\u001b[32mUsed vector_search (2)\u001b[0m\n",
              "└── \u001b[1;32m📋 Task: 67104c7e-704b-4df8-8ff1-fd0e3f29501b\u001b[0m\n",
              "    \u001b[37m   Assigned to: \u001b[0m\u001b[32mTechnical Writer\u001b[0m\n",
              "    \u001b[37m   Status: \u001b[0m\u001b[1;32m✅ Completed\u001b[0m\n",
              "    └── \u001b[1;32m🤖 Agent: \u001b[0m\u001b[32mTechnical Writer\u001b[0m\n",
              "        \u001b[37m    Status: \u001b[0m\u001b[1;32m✅ Completed\u001b[0m\n"
            ]
          },
          "metadata": {},
          "output_type": "display_data"
        },
        {
          "data": {
            "text/html": [
              "<pre style=\"white-space:pre;overflow-x:auto;line-height:normal;font-family:Menlo,'DejaVu Sans Mono',consolas,'Courier New',monospace\"><span style=\"color: #008000; text-decoration-color: #008000\">╭──────────────────────────────────────────────── Task Completion ────────────────────────────────────────────────╮</span>\n",
              "<span style=\"color: #008000; text-decoration-color: #008000\">│</span>                                                                                                                 <span style=\"color: #008000; text-decoration-color: #008000\">│</span>\n",
              "<span style=\"color: #008000; text-decoration-color: #008000\">│</span>  <span style=\"color: #008000; text-decoration-color: #008000; font-weight: bold\">Task Completed</span>                                                                                                 <span style=\"color: #008000; text-decoration-color: #008000\">│</span>\n",
              "<span style=\"color: #008000; text-decoration-color: #008000\">│</span>  <span style=\"color: #c0c0c0; text-decoration-color: #c0c0c0\">Name: </span><span style=\"color: #008000; text-decoration-color: #008000\">67104c7e-704b-4df8-8ff1-fd0e3f29501b</span>                                                                     <span style=\"color: #008000; text-decoration-color: #008000\">│</span>\n",
              "<span style=\"color: #008000; text-decoration-color: #008000\">│</span>  <span style=\"color: #c0c0c0; text-decoration-color: #c0c0c0\">Agent: </span><span style=\"color: #008000; text-decoration-color: #008000\">Technical Writer</span>                                                                                        <span style=\"color: #008000; text-decoration-color: #008000\">│</span>\n",
              "<span style=\"color: #008000; text-decoration-color: #008000\">│</span>                                                                                                                 <span style=\"color: #008000; text-decoration-color: #008000\">│</span>\n",
              "<span style=\"color: #008000; text-decoration-color: #008000\">│</span>                                                                                                                 <span style=\"color: #008000; text-decoration-color: #008000\">│</span>\n",
              "<span style=\"color: #008000; text-decoration-color: #008000\">╰─────────────────────────────────────────────────────────────────────────────────────────────────────────────────╯</span>\n",
              "</pre>\n"
            ],
            "text/plain": [
              "\u001b[32m╭─\u001b[0m\u001b[32m───────────────────────────────────────────────\u001b[0m\u001b[32m Task Completion \u001b[0m\u001b[32m───────────────────────────────────────────────\u001b[0m\u001b[32m─╮\u001b[0m\n",
              "\u001b[32m│\u001b[0m                                                                                                                 \u001b[32m│\u001b[0m\n",
              "\u001b[32m│\u001b[0m  \u001b[1;32mTask Completed\u001b[0m                                                                                                 \u001b[32m│\u001b[0m\n",
              "\u001b[32m│\u001b[0m  \u001b[37mName: \u001b[0m\u001b[32m67104c7e-704b-4df8-8ff1-fd0e3f29501b\u001b[0m                                                                     \u001b[32m│\u001b[0m\n",
              "\u001b[32m│\u001b[0m  \u001b[37mAgent: \u001b[0m\u001b[32mTechnical Writer\u001b[0m                                                                                        \u001b[32m│\u001b[0m\n",
              "\u001b[32m│\u001b[0m                                                                                                                 \u001b[32m│\u001b[0m\n",
              "\u001b[32m│\u001b[0m                                                                                                                 \u001b[32m│\u001b[0m\n",
              "\u001b[32m╰─────────────────────────────────────────────────────────────────────────────────────────────────────────────────╯\u001b[0m\n"
            ]
          },
          "metadata": {},
          "output_type": "display_data"
        },
        {
          "data": {
            "text/html": [
              "<pre style=\"white-space:pre;overflow-x:auto;line-height:normal;font-family:Menlo,'DejaVu Sans Mono',consolas,'Courier New',monospace\">\n",
              "</pre>\n"
            ],
            "text/plain": [
              "\n"
            ]
          },
          "metadata": {},
          "output_type": "display_data"
        },
        {
          "data": {
            "text/html": [
              "<pre style=\"white-space:pre;overflow-x:auto;line-height:normal;font-family:Menlo,'DejaVu Sans Mono',consolas,'Courier New',monospace\"><span style=\"color: #008000; text-decoration-color: #008000\">╭──────────────────────────────────────────────── Crew Completion ────────────────────────────────────────────────╮</span>\n",
              "<span style=\"color: #008000; text-decoration-color: #008000\">│</span>                                                                                                                 <span style=\"color: #008000; text-decoration-color: #008000\">│</span>\n",
              "<span style=\"color: #008000; text-decoration-color: #008000\">│</span>  <span style=\"color: #008000; text-decoration-color: #008000; font-weight: bold\">Crew Execution Completed</span>                                                                                       <span style=\"color: #008000; text-decoration-color: #008000\">│</span>\n",
              "<span style=\"color: #008000; text-decoration-color: #008000\">│</span>  <span style=\"color: #c0c0c0; text-decoration-color: #c0c0c0\">Name: </span><span style=\"color: #008000; text-decoration-color: #008000\">crew</span>                                                                                                     <span style=\"color: #008000; text-decoration-color: #008000\">│</span>\n",
              "<span style=\"color: #008000; text-decoration-color: #008000\">│</span>  <span style=\"color: #c0c0c0; text-decoration-color: #c0c0c0\">ID: </span><span style=\"color: #008000; text-decoration-color: #008000\">69ce0753-ef54-4e7b-9606-e6e9b08f1f3b</span>                                                                       <span style=\"color: #008000; text-decoration-color: #008000\">│</span>\n",
              "<span style=\"color: #008000; text-decoration-color: #008000\">│</span>                                                                                                                 <span style=\"color: #008000; text-decoration-color: #008000\">│</span>\n",
              "<span style=\"color: #008000; text-decoration-color: #008000\">│</span>                                                                                                                 <span style=\"color: #008000; text-decoration-color: #008000\">│</span>\n",
              "<span style=\"color: #008000; text-decoration-color: #008000\">╰─────────────────────────────────────────────────────────────────────────────────────────────────────────────────╯</span>\n",
              "</pre>\n"
            ],
            "text/plain": [
              "\u001b[32m╭─\u001b[0m\u001b[32m───────────────────────────────────────────────\u001b[0m\u001b[32m Crew Completion \u001b[0m\u001b[32m───────────────────────────────────────────────\u001b[0m\u001b[32m─╮\u001b[0m\n",
              "\u001b[32m│\u001b[0m                                                                                                                 \u001b[32m│\u001b[0m\n",
              "\u001b[32m│\u001b[0m  \u001b[1;32mCrew Execution Completed\u001b[0m                                                                                       \u001b[32m│\u001b[0m\n",
              "\u001b[32m│\u001b[0m  \u001b[37mName: \u001b[0m\u001b[32mcrew\u001b[0m                                                                                                     \u001b[32m│\u001b[0m\n",
              "\u001b[32m│\u001b[0m  \u001b[37mID: \u001b[0m\u001b[32m69ce0753-ef54-4e7b-9606-e6e9b08f1f3b\u001b[0m                                                                       \u001b[32m│\u001b[0m\n",
              "\u001b[32m│\u001b[0m                                                                                                                 \u001b[32m│\u001b[0m\n",
              "\u001b[32m│\u001b[0m                                                                                                                 \u001b[32m│\u001b[0m\n",
              "\u001b[32m╰─────────────────────────────────────────────────────────────────────────────────────────────────────────────────╯\u001b[0m\n"
            ]
          },
          "metadata": {},
          "output_type": "display_data"
        },
        {
          "data": {
            "text/html": [
              "<pre style=\"white-space:pre;overflow-x:auto;line-height:normal;font-family:Menlo,'DejaVu Sans Mono',consolas,'Courier New',monospace\">\n",
              "</pre>\n"
            ],
            "text/plain": [
              "\n"
            ]
          },
          "metadata": {},
          "output_type": "display_data"
        },
        {
          "name": "stdout",
          "output_type": "stream",
          "text": [
            "\n",
            "Query completed in 84.77 seconds\n",
            "================================================================================\n",
            "RESPONSE\n",
            "================================================================================\n",
            "The FA Cup third round draw has produced some thrilling matchups, showcasing the competition's unique ability to pit teams of varying stature against each other. Two fixtures, in particular, stand out: Manchester United vs Arsenal and Tamworth vs Tottenham. These matches promise to deliver exciting encounters, rich in history and laden with potential for upsets.\n",
            "\n",
            "**Introduction to the FA Cup Third Round**\n",
            "\n",
            "The FA Cup, renowned for its capacity to deliver surprising results, has once again lived up to its reputation with the third-round draw. This stage of the competition is often marked by David vs Goliath battles, where smaller clubs can make headlines by upsetting their more illustrious opponents. The draw has set the stage for several compelling matches, with some of the biggest names in English football taking on lesser-known opponents.\n",
            "\n",
            "**Manchester United vs Arsenal**\n",
            "\n",
            "One of the most anticipated fixtures of the third round is the encounter between Manchester United and Arsenal. Both teams boast a rich history in the FA Cup, with Manchester United having won the trophy a record 12 times and Arsenal lifting it 13 times. The match promises to be an enthralling contest, given the recent form of both teams. Manchester United enters the match on the back of three consecutive league victories, while Arsenal has been struggling to find consistency in their performances.\n",
            "\n",
            "The historical context of this match adds an extra layer of interest, with both teams aware of the significance of progressing to the next round. Manchester United and Arsenal have a storied past in the FA Cup, having contested several memorable matches over the years. The encounter is expected to be a closely contested affair, with the potential for late drama and surprises.\n",
            "\n",
            "**Tamworth vs Tottenham**\n",
            "\n",
            "Another intriguing matchup is the tie between Tamworth and Tottenham. Tamworth, a non-league side, faces the daunting task of taking on a Premier League team. However, the FA Cup is known for its capacity to deliver surprises, and Tamworth will be looking to make the most of their day out against Tottenham.\n",
            "\n",
            "Tottenham, an eight-time FA Cup winner, last lifted the trophy in 1991. The team will be expected to win comfortably, but the FA Cup's history of upsets serves as a warning to any team taking their opponents lightly. Tamworth, meanwhile, will be seeking to make history by becoming the first non-league side to defeat a Premier League team in the third round.\n",
            "\n",
            "**Other Notable Fixtures**\n",
            "\n",
            "In addition to these standout matches, other fixtures worth mentioning include Liverpool vs Everton, Chelsea vs Morecambe, and Manchester City vs Swindon Town. Each of these matches has the potential to deliver exciting encounters, with the possibility of upsets on the cards.\n",
            "\n",
            "Liverpool and Everton, two teams from the same city, will contest a local derby that promises to be a heated affair. Chelsea, meanwhile, takes on Morecambe, a team from the lower divisions. Manchester City faces Swindon Town, a fixture that could potentially produce an upset.\n",
            "\n",
            "**Conclusion**\n",
            "\n",
            "The FA Cup third round draw has set the stage for an exciting series of matches, filled with potential upsets and surprises. With teams of varying stature locked in combat, the competition's unique charm is on full display. As the matches unfold, it will be intriguing to see which teams emerge victorious and which lower-division teams can make a name for themselves by pulling off a surprise result.\n",
            "\n",
            "================================================================================\n",
            "DETAILED TASK OUTPUTS\n",
            "================================================================================\n",
            "\n",
            "Task: Research and analyze information relevant to: What are the key details about the FA Cup third round ...\n",
            "----------------------------------------\n",
            "Output: The FA Cup third round draw has thrown up some exciting matches, including Manchester United vs Arsenal and Tamworth vs Tottenham. Manchester United come into the match in good form, having won their last three league matches, while Arsenal have been struggling in recent weeks. Tamworth, meanwhile, will be looking to make the most of their day out against Tottenham, but they'll know it won't be easy against a team of Tottenham's quality.\n",
            "\n",
            "Other notable fixtures include Liverpool vs Everton, Chelsea vs Morecambe, and Manchester City vs Swindon Town. All of these matches are set to be exciting encounters, with the potential for upsets on the cards.\n",
            "\n",
            "In terms of history, Manchester United have won the FA Cup a record 12 times, while Arsenal have lifted the trophy 13 times. Tottenham, meanwhile, have won the FA Cup eight times, but they've not won it since 1991.\n",
            "\n",
            "The match between Manchester United and Arsenal is set to be a cracker, with both teams looking to progress to the next round. The two teams have a rich history in the competition, and this match is set to be a real barnburner.\n",
            "\n",
            "The tie between Tamworth and Tottenham is also an interesting one, with the non-league side looking to cause an upset against the Premier League team. Tamworth has never made it past the third round of the competition before, but they'll be hoping to make history against Tottenham.\n",
            "\n",
            "Overall, the FA Cup third round draw has set up some exciting matches, with plenty of potential for upsets and surprises.\n",
            "----------------------------------------\n",
            "\n",
            "Task: Create a comprehensive and well-structured response1. The Technical Writer will receive the detailed...\n",
            "----------------------------------------\n",
            "Output: The FA Cup third round draw has produced some thrilling matchups, showcasing the competition's unique ability to pit teams of varying stature against each other. Two fixtures, in particular, stand out: Manchester United vs Arsenal and Tamworth vs Tottenham. These matches promise to deliver exciting encounters, rich in history and laden with potential for upsets.\n",
            "\n",
            "**Introduction to the FA Cup Third Round**\n",
            "\n",
            "The FA Cup, renowned for its capacity to deliver surprising results, has once again lived up to its reputation with the third-round draw. This stage of the competition is often marked by David vs Goliath battles, where smaller clubs can make headlines by upsetting their more illustrious opponents. The draw has set the stage for several compelling matches, with some of the biggest names in English football taking on lesser-known opponents.\n",
            "\n",
            "**Manchester United vs Arsenal**\n",
            "\n",
            "One of the most anticipated fixtures of the third round is the encounter between Manchester United and Arsenal. Both teams boast a rich history in the FA Cup, with Manchester United having won the trophy a record 12 times and Arsenal lifting it 13 times. The match promises to be an enthralling contest, given the recent form of both teams. Manchester United enters the match on the back of three consecutive league victories, while Arsenal has been struggling to find consistency in their performances.\n",
            "\n",
            "The historical context of this match adds an extra layer of interest, with both teams aware of the significance of progressing to the next round. Manchester United and Arsenal have a storied past in the FA Cup, having contested several memorable matches over the years. The encounter is expected to be a closely contested affair, with the potential for late drama and surprises.\n",
            "\n",
            "**Tamworth vs Tottenham**\n",
            "\n",
            "Another intriguing matchup is the tie between Tamworth and Tottenham. Tamworth, a non-league side, faces the daunting task of taking on a Premier League team. However, the FA Cup is known for its capacity to deliver surprises, and Tamworth will be looking to make the most of their day out against Tottenham.\n",
            "\n",
            "Tottenham, an eight-time FA Cup winner, last lifted the trophy in 1991. The team will be expected to win comfortably, but the FA Cup's history of upsets serves as a warning to any team taking their opponents lightly. Tamworth, meanwhile, will be seeking to make history by becoming the first non-league side to defeat a Premier League team in the third round.\n",
            "\n",
            "**Other Notable Fixtures**\n",
            "\n",
            "In addition to these standout matches, other fixtures worth mentioning include Liverpool vs Everton, Chelsea vs Morecambe, and Manchester City vs Swindon Town. Each of these matches has the potential to deliver exciting encounters, with the possibility of upsets on the cards.\n",
            "\n",
            "Liverpool and Everton, two teams from the same city, will contest a local derby that promises to be a heated affair. Chelsea, meanwhile, takes on Morecambe, a team from the lower divisions. Manchester City faces Swindon Town, a fixture that could potentially produce an upset.\n",
            "\n",
            "**Conclusion**\n",
            "\n",
            "The FA Cup third round draw has set the stage for an exciting series of matches, filled with potential upsets and surprises. With teams of varying stature locked in combat, the competition's unique charm is on full display. As the matches unfold, it will be intriguing to see which teams emerge victorious and which lower-division teams can make a name for themselves by pulling off a surprise result.\n",
            "----------------------------------------\n"
          ]
        }
      ],
      "source": [
        "# Disable logging before running the query\n",
        "logging.disable(logging.CRITICAL)\n",
        "\n",
        "query = \"What are the key details about the FA Cup third round draw? Include information about Manchester United vs Arsenal, Tamworth vs Tottenham, and other notable fixtures.\"\n",
        "process_query(query, researcher, writer)"
      ]
    },
    {
      "cell_type": "markdown",
      "metadata": {
        "id": "6l2NjkvYLcJD"
      },
      "source": [
        "## Conclusion\n",
        "By following these steps, you've built a powerful RAG system that combines Couchbase's vector storage capabilities with CrewAI's agent-based architecture. This multi-agent approach separates research and writing concerns, resulting in higher quality responses to user queries.\n",
        "\n",
        "The system demonstrates several key advantages:\n",
        "1. Efficient vector search using Couchbase's vector store\n",
        "2. Specialized AI agents that focus on different aspects of the RAG pipeline\n",
        "3. Collaborative workflow between agents to produce comprehensive, well-structured responses\n",
        "4. Scalable architecture that can be extended with additional agents for more complex tasks\n",
        "\n",
        "Whether you're building a customer support system, a research assistant, or a knowledge management solution, this agent-based RAG approach provides a flexible foundation that can be adapted to various use cases and domains."
      ]
    },
    {
      "cell_type": "code",
      "execution_count": null,
      "metadata": {
        "id": "a30bvrAPOfyN"
      },
      "outputs": [],
      "source": []
    }
  ],
  "metadata": {
    "colab": {
      "provenance": []
    },
    "kernelspec": {
      "display_name": "Python 3",
      "language": "python",
      "name": "python3"
    },
    "language_info": {
      "codemirror_mode": {
        "name": "ipython",
        "version": 3
      },
      "file_extension": ".py",
      "mimetype": "text/x-python",
      "name": "python",
      "nbconvert_exporter": "python",
      "pygments_lexer": "ipython3",
      "version": "3.12.3"
    }
  },
  "nbformat": 4,
  "nbformat_minor": 0
}
